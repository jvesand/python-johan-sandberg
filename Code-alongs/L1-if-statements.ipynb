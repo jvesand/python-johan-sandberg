{
 "cells": [
  {
   "cell_type": "markdown",
   "metadata": {},
   "source": [
    "# If statements"
   ]
  },
  {
   "cell_type": "code",
   "execution_count": 6,
   "metadata": {},
   "outputs": [
    {
     "name": "stdout",
     "output_type": "stream",
     "text": [
      "Du ar 17 years old, limit is 18\n",
      "Du far ej komma in\n"
     ]
    }
   ],
   "source": [
    "age = int(input(\"Hur gammal ar du?\"))\n",
    "\n",
    "if age < 18:\n",
    "    print(f\"Du ar {age} years old, limit is 18\")\n",
    "    print(\"Du far ej komma in\")\n",
    "else:\n",
    "    print(\"Welcome\")"
   ]
  },
  {
   "cell_type": "code",
   "execution_count": 7,
   "metadata": {},
   "outputs": [
    {
     "name": "stdout",
     "output_type": "stream",
     "text": [
      "Du får åka balder\n"
     ]
    }
   ],
   "source": [
    "age = 16\n",
    "height = 135\n",
    "\n",
    "if age > 10 and height > 130:\n",
    "    print(\"Du får åka balder\")\n",
    "else:\n",
    "    print(\"Du får inte åka Balder\")"
   ]
  },
  {
   "cell_type": "code",
   "execution_count": 8,
   "metadata": {},
   "outputs": [
    {
     "name": "stdout",
     "output_type": "stream",
     "text": [
      "Du får åka balder\n"
     ]
    }
   ],
   "source": [
    "age = 16\n",
    "height = 135\n",
    "\n",
    "if age > 10 and 130 < height < 210:\n",
    "    print(\"Du får åka balder\")\n",
    "else:\n",
    "    print(\"Du får inte åka Balder\")"
   ]
  },
  {
   "cell_type": "markdown",
   "metadata": {},
   "source": [
    "# Modulo operator %"
   ]
  },
  {
   "cell_type": "code",
   "execution_count": 13,
   "metadata": {},
   "outputs": [
    {
     "name": "stdout",
     "output_type": "stream",
     "text": [
      "1\n",
      "ojämnt tal\n"
     ]
    }
   ],
   "source": [
    "number = 41\n",
    "print(5%2)\n",
    "\n",
    "if number % 2 == 0:\n",
    "    print(\"jämnt tal\")\n",
    "else:\n",
    "    print(\"ojämnt tal\")"
   ]
  },
  {
   "cell_type": "code",
   "execution_count": 19,
   "metadata": {},
   "outputs": [
    {
     "name": "stdout",
     "output_type": "stream",
     "text": [
      "3==4: False\n",
      "3==3: True\n",
      "3>=3: True\n",
      "3!=3: False\n"
     ]
    }
   ],
   "source": [
    "print(f\"3==4: {3 == 4}\")\n",
    "print(f\"3==3: {3 == 3}\")\n",
    "print(f\"3>=3: {3 >= 3}\")\n",
    "print(f\"3!=3: {3 != 3}\")"
   ]
  },
  {
   "cell_type": "code",
   "execution_count": null,
   "metadata": {},
   "outputs": [],
   "source": []
  }
 ],
 "metadata": {
  "kernelspec": {
   "display_name": "Python 3.9.1 ('python-johan-sandberg-x4O3kqDM')",
   "language": "python",
   "name": "python3"
  },
  "language_info": {
   "codemirror_mode": {
    "name": "ipython",
    "version": 3
   },
   "file_extension": ".py",
   "mimetype": "text/x-python",
   "name": "python",
   "nbconvert_exporter": "python",
   "pygments_lexer": "ipython3",
   "version": "3.9.1"
  },
  "orig_nbformat": 4,
  "vscode": {
   "interpreter": {
    "hash": "da9dd422ea5b832177d9cab6ed09096dc8afb770f75d972c39385656daeae52e"
   }
  }
 },
 "nbformat": 4,
 "nbformat_minor": 2
}
