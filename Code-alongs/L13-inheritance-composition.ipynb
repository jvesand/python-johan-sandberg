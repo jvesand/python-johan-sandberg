{
 "cells": [
  {
   "cell_type": "markdown",
   "metadata": {},
   "source": [
    "# Inheritance and composition"
   ]
  },
  {
   "cell_type": "code",
   "execution_count": 15,
   "metadata": {},
   "outputs": [
    {
     "name": "stdout",
     "output_type": "stream",
     "text": [
      "__init__() missing 2 required positional arguments: 'name' and 'age'\n",
      "Person Ada says hi\n",
      "<__main__.Student object at 0x10a181a90>\n"
     ]
    }
   ],
   "source": [
    "import re\n",
    "\n",
    "class Person:\n",
    "    def __init__(self, name: str, age: int) -> None:\n",
    "        self.age = age\n",
    "        self.name = name\n",
    "\n",
    "    @property\n",
    "    def age(self) -> int:\n",
    "        return self._age\n",
    "\n",
    "    @age.setter\n",
    "    def age(self, value: int) -> None:\n",
    "        if not isinstance(value, int):\n",
    "            raise TypeError(f\"Age must be int or flot not {type(value).__name__}\")\n",
    "        self._age = value\n",
    "\n",
    "    @property\n",
    "    def name(self) -> str:\n",
    "        return self._name\n",
    "\n",
    "    @name.setter\n",
    "    def name(self, value: str) -> None:\n",
    "        if re.search(r\"^[A-z]+(\\s[A-z]+)?$\", value.strip()) is None:\n",
    "            raise ValueError(f\"{value} is not a valid name\")\n",
    "        self._name = value\n",
    "\n",
    "    def say_hi(self) -> None:\n",
    "        print(f\"Person {self.name} says hi\")\n",
    "\n",
    "# Subclass(Superclass) / ChildClass(ParentClass) / DerivedClass(BaseClass)\n",
    "class Student(Person):\n",
    "    pass\n",
    "\n",
    "# Student class uses dunder init from its parent class\n",
    "try:\n",
    "    student1 = Student()\n",
    "except TypeError as err:\n",
    "    print(err)\n",
    "\n",
    "student1 = Student(\"Ada\", 42)\n",
    "\n",
    "# student1 uses say_hi() from its parent class\n",
    "student1.say_hi()\n",
    "\n",
    "# goes up in inheritance chain and finds __reprs_ in object class\n",
    "print(student1)"
   ]
  },
  {
   "cell_type": "markdown",
   "metadata": {},
   "source": [
    "## Update classes"
   ]
  },
  {
   "cell_type": "code",
   "execution_count": 23,
   "metadata": {},
   "outputs": [
    {
     "name": "stdout",
     "output_type": "stream",
     "text": [
      "Java\n",
      "Student Urban Lindstrom speaks Java\n",
      "OldCoinStash(owner='Ivar')\n",
      "Coins in stash: 0 riksdaler, 0 skilling\n",
      "--------------------------------------------------\n",
      "Student Urban Lindstrom speaks Java\n",
      "Person Bodil says hi\n",
      "Person Ivar says hi\n"
     ]
    }
   ],
   "source": [
    "import re\n",
    "from oldcoins import OldCoinsStash\n",
    "\n",
    "class Person:\n",
    "    def __init__(self, name: str, age: int) -> None:\n",
    "        self.age = age\n",
    "        self.name = name\n",
    "\n",
    "    @property\n",
    "    def age(self) -> int:\n",
    "        return self._age\n",
    "\n",
    "    @age.setter\n",
    "    def age(self, value: int) -> None:\n",
    "        if not isinstance(value, int):\n",
    "            raise TypeError(f\"Age must be int or flot not {type(value).__name__}\")\n",
    "        self._age = value\n",
    "\n",
    "    @property\n",
    "    def name(self) -> str:\n",
    "        return self._name\n",
    "\n",
    "    @name.setter\n",
    "    def name(self, value: str) -> None:\n",
    "        if re.search(r\"^[A-z]+(\\s[A-z]+)?$\", value.strip()) is None:\n",
    "            raise ValueError(f\"{value} is not a valid name\")\n",
    "        self._name = value\n",
    "\n",
    "    def say_hi(self) -> None:\n",
    "        print(f\"Person {self.name} says hi\")\n",
    "\n",
    "class Student(Person):\n",
    "    \"\"\"A Student is a Person that knows a language\"\"\"\n",
    "    # override __init__()\n",
    "    def __init__(self, name: str, age: int, language: str) -> None:\n",
    "        # calls parent init (so you don't have to write out self.age = age etc)\n",
    "        # delegating to parent\n",
    "        super().__init__(name, age)\n",
    "        self.language = language\n",
    "\n",
    "    # TODO: make language into a property (now a bare attribute)\n",
    "\n",
    "    # overriding say_hi() method from Person class\n",
    "    def say_hi(self) -> None:\n",
    "        print(f\"Student {self.name} speaks {self.language}\")\n",
    "\n",
    "class Viking(Person):\n",
    "    \"\"\"A Viking is a Person that has an OldCoinsStash\"\"\"\n",
    "    def __init__(self, name: str, age: int) -> None:\n",
    "        super().__init__(name, age)\n",
    "        # composition - a Viking HAS an OldCoinsStash (isn't one)\n",
    "        self.stash = OldCoinsStash(self.name) # self.name to use the validation code from Person for OldCoinsStash (parent delegation)\n",
    "\n",
    "student2 = Student(\"Urban Lindstrom\", 45, \"Java\")\n",
    "print(student2.language)\n",
    "student2.say_hi()\n",
    "\n",
    "person2 = Person(\"Bodil\", 26)\n",
    "viking2 = Viking(\"Ivar\", 23)\n",
    "\n",
    "print(viking2.stash) # from the Viking class repr\n",
    "print(viking2.stash.check_balance())\n",
    "\n",
    "print(\"-\"*50)\n",
    "for person in (student2, person2, viking2):\n",
    "    person.say_hi()\n",
    "    # note Viking has no say_hi() defined in the class so Python looks up the inheritance chain and finds it in Person class"
   ]
  }
 ],
 "metadata": {
  "kernelspec": {
   "display_name": "Python 3.9.13 ('python-johan-sandberg-x4O3kqDM')",
   "language": "python",
   "name": "python3"
  },
  "language_info": {
   "codemirror_mode": {
    "name": "ipython",
    "version": 3
   },
   "file_extension": ".py",
   "mimetype": "text/x-python",
   "name": "python",
   "nbconvert_exporter": "python",
   "pygments_lexer": "ipython3",
   "version": "3.9.13"
  },
  "orig_nbformat": 4,
  "vscode": {
   "interpreter": {
    "hash": "da9dd422ea5b832177d9cab6ed09096dc8afb770f75d972c39385656daeae52e"
   }
  }
 },
 "nbformat": 4,
 "nbformat_minor": 2
}
