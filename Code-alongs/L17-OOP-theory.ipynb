{
 "cells": [
  {
   "cell_type": "markdown",
   "metadata": {},
   "source": [
    "# OOP theory"
   ]
  },
  {
   "cell_type": "markdown",
   "metadata": {},
   "source": [
    "## Class instantiation\n",
    "\n",
    "When instantiating an object from a class\n",
    "1. `__new__()` is run\n",
    "2. `__init__()` is run -> gives the instance object its initial state"
   ]
  },
  {
   "cell_type": "code",
   "execution_count": 5,
   "metadata": {},
   "outputs": [
    {
     "name": "stdout",
     "output_type": "stream",
     "text": [
      "<__main__.Student object at 0x10dadfa30>\n",
      "<class '__main__.Student'>\n",
      "True\n"
     ]
    }
   ],
   "source": [
    "# convention for classes is PascalCase\n",
    "class Student:\n",
    "    pass\n",
    "\n",
    "# variable and function names have snake_case\n",
    "\n",
    "s1 = Student()\n",
    "# s1 has a __repr__ inherited from the object class\n",
    "print(repr(s1))\n",
    "\n",
    "print(type(s1))\n",
    "print(isinstance(s1, object))"
   ]
  },
  {
   "cell_type": "code",
   "execution_count": 7,
   "metadata": {},
   "outputs": [
    {
     "data": {
      "text/plain": [
       "(True, False)"
      ]
     },
     "execution_count": 7,
     "metadata": {},
     "output_type": "execute_result"
    }
   ],
   "source": [
    "isinstance(Student, object), isinstance(s1, int)"
   ]
  },
  {
   "cell_type": "code",
   "execution_count": 13,
   "metadata": {},
   "outputs": [
    {
     "data": {
      "text/plain": [
       "('0x10dadfa30', '0x10dcbf190', 4524472880)"
      ]
     },
     "execution_count": 13,
     "metadata": {},
     "output_type": "execute_result"
    }
   ],
   "source": [
    "s2 = Student()\n",
    "\n",
    "# check memory addresses (hex is hexadecimal, base 16)\n",
    "hex(id(s1)), hex(id(s2)), id(s1)"
   ]
  },
  {
   "cell_type": "code",
   "execution_count": 14,
   "metadata": {},
   "outputs": [
    {
     "data": {
      "text/plain": [
       "(False, True)"
      ]
     },
     "execution_count": 14,
     "metadata": {},
     "output_type": "execute_result"
    }
   ],
   "source": [
    "l1 = [1,2,3]\n",
    "l2 = [1,2,3]\n",
    "\n",
    "l1 is l2, l1 == l2"
   ]
  },
  {
   "cell_type": "markdown",
   "metadata": {},
   "source": [
    "## Attribute\n",
    "\n",
    "- can be defined in class\n",
    "- can be created on the fly (during runtime) using dot notation\n",
    "- can be created inside methods"
   ]
  },
  {
   "cell_type": "code",
   "execution_count": 17,
   "metadata": {},
   "outputs": [
    {
     "name": "stdout",
     "output_type": "stream",
     "text": [
      "{'__module__': '__main__', 'name': 'default', '__dict__': <attribute '__dict__' of 'Student' objects>, '__weakref__': <attribute '__weakref__' of 'Student' objects>, '__doc__': None}\n"
     ]
    },
    {
     "data": {
      "text/plain": [
       "'default'"
      ]
     },
     "execution_count": 17,
     "metadata": {},
     "output_type": "execute_result"
    }
   ],
   "source": [
    "class Student:\n",
    "    name = \"default\"\n",
    "\n",
    "# Student's namespace\n",
    "print(Student.__dict__)\n",
    "\n",
    "# gets the name attribute from the class\n",
    "Student.name"
   ]
  },
  {
   "cell_type": "code",
   "execution_count": 19,
   "metadata": {},
   "outputs": [
    {
     "name": "stdout",
     "output_type": "stream",
     "text": [
      "{}\n"
     ]
    },
    {
     "data": {
      "text/plain": [
       "'default'"
      ]
     },
     "execution_count": 19,
     "metadata": {},
     "output_type": "execute_result"
    }
   ],
   "source": [
    "s1 = Student()\n",
    "\n",
    "# empty namespace\n",
    "print(s1.__dict__)\n",
    "\n",
    "# if instance namespace empty, checks the class namespace\n",
    "s1.name"
   ]
  },
  {
   "cell_type": "code",
   "execution_count": 20,
   "metadata": {},
   "outputs": [
    {
     "name": "stdout",
     "output_type": "stream",
     "text": [
      "{'shoe_size': 43}\n"
     ]
    }
   ],
   "source": [
    "# created an attribute on the fly with dot notation\n",
    "s1.shoe_size = 43\n",
    "print(s1.__dict__)"
   ]
  },
  {
   "cell_type": "code",
   "execution_count": 23,
   "metadata": {},
   "outputs": [
    {
     "name": "stdout",
     "output_type": "stream",
     "text": [
      "{'shoe_size': 43, 'name': 'Ada'}\n",
      "{'__module__': '__main__', 'name': 'default', '__dict__': <attribute '__dict__' of 'Student' objects>, '__weakref__': <attribute '__weakref__' of 'Student' objects>, '__doc__': None}\n"
     ]
    }
   ],
   "source": [
    "s1.name = \"Ada\"\n",
    "print(s1.__dict__)\n",
    "\n",
    "# class name attribute is still 'default'\n",
    "print(Student.__dict__)\n"
   ]
  },
  {
   "cell_type": "markdown",
   "metadata": {},
   "source": [
    "## Namespace\n",
    "\n",
    "- class attributes live in the class namespace\n",
    "- namespace - dictionary of symbols (keys): reference to objects (values)\n",
    "\n",
    "Python will look at local scope (innermost) -> enclosing scope -> global scope -> built-in scope"
   ]
  },
  {
   "cell_type": "code",
   "execution_count": null,
   "metadata": {},
   "outputs": [],
   "source": [
    "# global scope\n",
    "class Functions:\n",
    "    # enclosing scope\n",
    "    def f(x):\n",
    "        # local scope\n",
    "        return x"
   ]
  },
  {
   "cell_type": "code",
   "execution_count": 37,
   "metadata": {},
   "outputs": [
    {
     "name": "stdout",
     "output_type": "stream",
     "text": [
      "{'name': 'Bella'}\n",
      "{'__module__': '__main__', 'eyes': 2, 'nose': 1, 'has_tail': True, '__init__': <function Rabbit.__init__ at 0x10eaa53a0>, '__dict__': <attribute '__dict__' of 'Rabbit' objects>, '__weakref__': <attribute '__weakref__' of 'Rabbit' objects>, '__doc__': None}\n"
     ]
    }
   ],
   "source": [
    "class Rabbit:\n",
    "    # class attributes: class namespace, not in instance namespace\n",
    "    eyes =2\n",
    "    nose = 1\n",
    "    has_tail = True\n",
    "\n",
    "    def __init__(self, name) -> None:\n",
    "        # name exists in instance n\n",
    "        self.name = name\n",
    "\n",
    "rabbit1 = Rabbit(\"Bella\")\n",
    "\n",
    "# name in local namespace\n",
    "print(rabbit1.__dict__)\n",
    "\n",
    "# name not in class namespace\n",
    "print(Rabbit.__dict__)"
   ]
  },
  {
   "cell_type": "code",
   "execution_count": 40,
   "metadata": {},
   "outputs": [
    {
     "data": {
      "text/plain": [
       "False"
      ]
     },
     "execution_count": 40,
     "metadata": {},
     "output_type": "execute_result"
    }
   ],
   "source": [
    "class Rabbit:\n",
    "    # class attributes: class namespace, not in instance namespace\n",
    "    eyes =2\n",
    "    nose = 1\n",
    "    has_tail = True\n",
    "\n",
    "    def __init__(self, name) -> None:\n",
    "        # name exists in instance n\n",
    "        self.name = name\n",
    "        self.has_tail = False\n",
    "\n",
    "rabbit2 = Rabbit(\"Mella\")\n",
    "rabbit2.has_tail"
   ]
  },
  {
   "cell_type": "code",
   "execution_count": 41,
   "metadata": {},
   "outputs": [
    {
     "data": {
      "text/plain": [
       "4"
      ]
     },
     "execution_count": 41,
     "metadata": {},
     "output_type": "execute_result"
    }
   ],
   "source": [
    "import numpy as np\n",
    "\n",
    "# x is in global namespace scope\n",
    "x = np.linspace(-5,5)\n",
    "\n",
    "# x here is in local scope\n",
    "# f = lambda x: x**2\n",
    "def f(x):\n",
    "    # local x = 2\n",
    "    y = x +2\n",
    "    return y\n",
    "\n",
    "f(2)"
   ]
  },
  {
   "cell_type": "markdown",
   "metadata": {},
   "source": [
    "## Property"
   ]
  },
  {
   "cell_type": "code",
   "execution_count": 50,
   "metadata": {},
   "outputs": [
    {
     "name": "stdout",
     "output_type": "stream",
     "text": [
      "'Square' object has no attribute 'side'\n",
      "setter run\n",
      "getter run\n",
      "2\n"
     ]
    },
    {
     "data": {
      "text/plain": [
       "{'_side': 2}"
      ]
     },
     "execution_count": 50,
     "metadata": {},
     "output_type": "execute_result"
    }
   ],
   "source": [
    "# without property\n",
    "class Square:\n",
    "    def __init__(self, side) -> None:\n",
    "        self._side = side # NOTE\n",
    "\n",
    "    def get_side(self):\n",
    "        print(\"getter run\")\n",
    "        return self._side\n",
    "\n",
    "    def set_side(self, value):\n",
    "        # validation code\n",
    "        print(\"setter run\")\n",
    "        self._side = value\n",
    "\n",
    "unit_square = Square(1)\n",
    "\n",
    "try:\n",
    "    unit_square.side\n",
    "except AttributeError as err:\n",
    "    print(err)\n",
    "\n",
    "unit_square.set_side(2)\n",
    "print(unit_square.get_side())\n",
    "unit_square.__dict__\n"
   ]
  },
  {
   "cell_type": "code",
   "execution_count": 55,
   "metadata": {},
   "outputs": [
    {
     "name": "stdout",
     "output_type": "stream",
     "text": [
      "setter run\n",
      "setter run\n",
      "getter run\n"
     ]
    },
    {
     "data": {
      "text/plain": [
       "4"
      ]
     },
     "execution_count": 55,
     "metadata": {},
     "output_type": "execute_result"
    }
   ],
   "source": [
    "# property function (using side attribute)\n",
    "class Square:\n",
    "    def __init__(self, side) -> None:\n",
    "        self.side = side # _side no longer needed, init runs set_side\n",
    "\n",
    "    # method\n",
    "    def get_side(self):\n",
    "        print(\"getter run\")\n",
    "        return self._side\n",
    "\n",
    "    # method\n",
    "    def set_side(self, value):\n",
    "        # validation code\n",
    "        print(\"setter run\")\n",
    "        self._side = value\n",
    "    \n",
    "    # when using decorator @, this is what happens\n",
    "    side = property(fget = get_side, fset = set_side)\n",
    "\n",
    "square2 = Square(2)\n",
    "square2.side = 4\n",
    "square2.side"
   ]
  },
  {
   "cell_type": "code",
   "execution_count": 54,
   "metadata": {},
   "outputs": [
    {
     "name": "stdout",
     "output_type": "stream",
     "text": [
      "setter run\n",
      "setter run\n",
      "getter run\n"
     ]
    },
    {
     "data": {
      "text/plain": [
       "4"
      ]
     },
     "execution_count": 54,
     "metadata": {},
     "output_type": "execute_result"
    }
   ],
   "source": [
    "# property function (using side attribute)\n",
    "class Square:\n",
    "    def __init__(self, side) -> None:\n",
    "        self.side = side # _side no longer needed\n",
    "\n",
    "    # side = property(fget=side)\n",
    "    @property\n",
    "    def side(self):\n",
    "        print(\"getter run\")\n",
    "        return self._side\n",
    "\n",
    "    @side.setter\n",
    "    def side(self, value):\n",
    "        # validation code\n",
    "        print(\"setter run\")\n",
    "        self._side = value\n",
    "    \n",
    "square2 = Square(2)\n",
    "square2.side = 4\n",
    "square2.side"
   ]
  }
 ],
 "metadata": {
  "kernelspec": {
   "display_name": "Python 3.9.13 ('python-johan-sandberg-x4O3kqDM')",
   "language": "python",
   "name": "python3"
  },
  "language_info": {
   "codemirror_mode": {
    "name": "ipython",
    "version": 3
   },
   "file_extension": ".py",
   "mimetype": "text/x-python",
   "name": "python",
   "nbconvert_exporter": "python",
   "pygments_lexer": "ipython3",
   "version": "3.9.13"
  },
  "orig_nbformat": 4,
  "vscode": {
   "interpreter": {
    "hash": "da9dd422ea5b832177d9cab6ed09096dc8afb770f75d972c39385656daeae52e"
   }
  }
 },
 "nbformat": 4,
 "nbformat_minor": 2
}
