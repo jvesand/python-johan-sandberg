{
 "cells": [
  {
   "cell_type": "markdown",
   "metadata": {},
   "source": [
    "# Dataclass\n",
    "\n",
    "- give us some boilerplate code (reusable with slight modifications) for free\n",
    "- usually used for classes that store a lot of data\n",
    "- in method heavy classes, dataclass might not help much\n",
    "\n",
    "gives free:\n",
    "- `__init__()`\n",
    "- `__repr__()`\n",
    "- `__eq__()`\n",
    "- and more\n"
   ]
  },
  {
   "cell_type": "code",
   "execution_count": 15,
   "metadata": {},
   "outputs": [
    {
     "name": "stdout",
     "output_type": "stream",
     "text": [
      "value setter\n",
      "value must be int or float not property\n",
      "value setter\n",
      "value getter\n",
      "Prefix(value=42, unit='unit', prefix_symbol=None)\n"
     ]
    }
   ],
   "source": [
    "from __future__ import annotations\n",
    "from dataclasses import dataclass\n",
    "\n",
    "# creates __init__() from fields\n",
    "@dataclass\n",
    "class Prefix:\n",
    "    # fiels will go into the automatically generated __init__(), __repr__()\n",
    "    # fields - variable: type annotation\n",
    "    value: int | float  # positional argument\n",
    "    unit: str = \"unit\"  # keyword argument\n",
    "    prefix_symbol: str = None  # keyword argument\n",
    "\n",
    "    # generated dunder init\n",
    "    # def __init__(self, value, unit = \"unit\", prefix_symbol = None):\n",
    "    #   self.value = value\n",
    "    #   self.unit = unit\n",
    "    #   self.prefix_symbol = prefix_symbol\n",
    "\n",
    "    # without type hinting not a field, but a normal attribute\n",
    "    # base class attributes, they are not in __init__ or __repr__\n",
    "    symbols = \"T G M k h d c m µ n p\".split()\n",
    "    names = \"tera giga mega kilo hekto deci centi milli mikro nano piko\".split()\n",
    "    values = (10**i for i in (12, 9, 6, 3, 2, -1, -2, -3, -6, -9, -12))\n",
    "\n",
    "    @property\n",
    "    def value(self):\n",
    "        print(\"value getter\")\n",
    "        return self._value\n",
    "\n",
    "    @value.setter\n",
    "    def value(self, value):\n",
    "        print(\"value setter\")\n",
    "        if not isinstance(value, (float, int)):\n",
    "            raise TypeError(f\"value must be int or float not {type(value).__name__}\")\n",
    "        self._value = value\n",
    "\n",
    "\n",
    "# value has no default value, so it has be given as a positional argument\n",
    "try:\n",
    "    p1 = Prefix()\n",
    "except TypeError as err:\n",
    "    print(err)\n",
    "\n",
    "p1 = Prefix(42)\n",
    "\n",
    "# dataclass generates __repr__ as well\n",
    "print(p1) # the __repr__ gets value, calling getter\n"
   ]
  }
 ],
 "metadata": {
  "kernelspec": {
   "display_name": "Python 3.9.13 ('python-johan-sandberg-x4O3kqDM')",
   "language": "python",
   "name": "python3"
  },
  "language_info": {
   "codemirror_mode": {
    "name": "ipython",
    "version": 3
   },
   "file_extension": ".py",
   "mimetype": "text/x-python",
   "name": "python",
   "nbconvert_exporter": "python",
   "pygments_lexer": "ipython3",
   "version": "3.9.13"
  },
  "orig_nbformat": 4,
  "vscode": {
   "interpreter": {
    "hash": "da9dd422ea5b832177d9cab6ed09096dc8afb770f75d972c39385656daeae52e"
   }
  }
 },
 "nbformat": 4,
 "nbformat_minor": 2
}
