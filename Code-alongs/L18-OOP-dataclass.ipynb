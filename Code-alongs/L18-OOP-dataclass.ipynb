{
 "cells": [
  {
   "cell_type": "markdown",
   "metadata": {},
   "source": [
    "# Dataclass (Python version >= 3.7)\n",
    "\n",
    "- give us some boilerplate code (reusable with slight modifications) for free\n",
    "- usually used for classes that store a lot of data\n",
    "- in method heavy classes, dataclass might not help much\n",
    "\n",
    "gives free:\n",
    "- `__init__()`\n",
    "- `__repr__()`\n",
    "- `__eq__()`\n",
    "- and more\n"
   ]
  },
  {
   "cell_type": "code",
   "execution_count": 34,
   "metadata": {},
   "outputs": [
    {
     "name": "stdout",
     "output_type": "stream",
     "text": [
      "value setter\n",
      "value must be int or float not property\n",
      "value setter\n",
      "value getter\n",
      "42 g\n",
      "value getter\n",
      "value getter\n",
      "42000.0 mg\n"
     ]
    }
   ],
   "source": [
    "from __future__ import annotations\n",
    "from dataclasses import dataclass\n",
    "\n",
    "# creates __init__() from fields\n",
    "@dataclass\n",
    "class Prefix:\n",
    "    # fiels will go into the automatically generated __init__(), __repr__() and __eq__()\n",
    "    # fields - variable: type annotation\n",
    "    value: int | float  # positional argument\n",
    "    unit: str = \"unit\"  # keyword argument\n",
    "    prefix_symbol: str = None  # keyword argument\n",
    "\n",
    "    # generated dunder init\n",
    "    # def __init__(self, value, unit = \"unit\", prefix_symbol = None):\n",
    "    #   self.value = value\n",
    "    #   self.unit = unit\n",
    "    #   self.prefix_symbol = prefix_symbol\n",
    "\n",
    "    # without type hinting not a field, but a normal attribute\n",
    "    # base class attributes, they are not in __init__ or __repr__ (what about __eq___()?)\n",
    "    symbols = \"T G M k h d c m µ n p\".split()\n",
    "    names = \"tera giga mega kilo hekto deci centi milli mikro nano piko\".split()\n",
    "    values = (10**i for i in (12, 9, 6, 3, 2, -1, -2, -3, -6, -9, -12))\n",
    "\n",
    "    # dictionary comprehension\n",
    "    prefix_dict = {\n",
    "        symbol: [value, name]\n",
    "        for name, symbol, value in zip(names, symbols, values) # list, list, generator/tuple\n",
    "    }\n",
    "\n",
    "    def convert(self, symbol: str) -> float|int:\n",
    "        self.prefix_symbol = symbol\n",
    "        return self.value/self.prefix_dict[symbol][0] # dictionary lookup\n",
    "\n",
    "    def __str__(self) -> str:\n",
    "        if self.prefix_symbol:\n",
    "            return f\"{self.convert(self.prefix_symbol)} {self.prefix_symbol}{self.unit}\"\n",
    "        return f\"{self.value} {self.unit}\"\n",
    "\n",
    "    @property\n",
    "    def value(self):\n",
    "        print(\"value getter\")\n",
    "        return self._value\n",
    "\n",
    "    @value.setter\n",
    "    def value(self, value):\n",
    "        print(\"value setter\")\n",
    "        if not isinstance(value, (float, int)):\n",
    "            raise TypeError(f\"value must be int or float not {type(value).__name__}\")\n",
    "        self._value = value\n",
    "\n",
    "\n",
    "# value has no default value, so it has be given as a positional argument\n",
    "try:\n",
    "    p1 = Prefix()\n",
    "except TypeError as err:\n",
    "    print(err)\n",
    "\n",
    "p1 = Prefix(42, \"g\")\n",
    "\n",
    "# dataclass generates __repr__ as well\n",
    "# __repr__() uses the fields (init) and not the class attributes\n",
    "# the __repr__ gets value, calling getter\n",
    "\n",
    "# defined __str__(), instead of using built in repr\n",
    "print(p1)\n",
    "\n",
    "# print(p1.prefix_dict)\n",
    "p1.convert(\"m\") # 42/10^(-3) = 42*10^3 = 42000\n",
    "print(p1)"
   ]
  },
  {
   "cell_type": "code",
   "execution_count": 38,
   "metadata": {},
   "outputs": [
    {
     "name": "stdout",
     "output_type": "stream",
     "text": [
      "value setter\n",
      "value setter\n",
      "value getter\n",
      "value getter\n"
     ]
    },
    {
     "data": {
      "text/plain": [
       "True"
      ]
     },
     "execution_count": 38,
     "metadata": {},
     "output_type": "execute_result"
    }
   ],
   "source": [
    "p1 = Prefix(42, \"g\")\n",
    "p2 = Prefix(42, \"g\")\n",
    "# __eq__()\n",
    "p1 == p2"
   ]
  }
 ],
 "metadata": {
  "kernelspec": {
   "display_name": "Python 3.9.13 ('python-johan-sandberg-x4O3kqDM')",
   "language": "python",
   "name": "python3"
  },
  "language_info": {
   "codemirror_mode": {
    "name": "ipython",
    "version": 3
   },
   "file_extension": ".py",
   "mimetype": "text/x-python",
   "name": "python",
   "nbconvert_exporter": "python",
   "pygments_lexer": "ipython3",
   "version": "3.9.13"
  },
  "orig_nbformat": 4,
  "vscode": {
   "interpreter": {
    "hash": "da9dd422ea5b832177d9cab6ed09096dc8afb770f75d972c39385656daeae52e"
   }
  }
 },
 "nbformat": 4,
 "nbformat_minor": 2
}
