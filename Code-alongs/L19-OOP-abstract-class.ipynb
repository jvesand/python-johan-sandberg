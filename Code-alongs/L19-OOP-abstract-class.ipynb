{
 "cells": [
  {
   "cell_type": "markdown",
   "metadata": {},
   "source": [
    "# Abstract classes"
   ]
  },
  {
   "cell_type": "markdown",
   "metadata": {},
   "source": [
    "## Problem description\n",
    "\n",
    "3 developers, the task is to implement a photosynthesis method for 3 different platns"
   ]
  },
  {
   "cell_type": "code",
   "execution_count": 12,
   "metadata": {},
   "outputs": [
    {
     "name": "stdout",
     "output_type": "stream",
     "text": [
      "VenusFlyTrap does photosynthesis\n"
     ]
    }
   ],
   "source": [
    "# developer 1\n",
    "class VenusFlyTrap:\n",
    "    def venus_photosynthesis(self):\n",
    "        # instance - what class ? - what name of class?\n",
    "        print(f\"{self.__class__.__name__} does photosynthesis\")\n",
    "\n",
    "\n",
    "# developer 2\n",
    "class Monstera:\n",
    "    def monstera_photosynthesis(self):\n",
    "        print(\"Monstera looking cool...\")\n",
    "        print(f\"{self.__class__.__name__} does photosynthesis\")\n",
    "\n",
    "# developer 3\n",
    "class MoneyPlant:\n",
    "    def photosynthesis(self):\n",
    "        print(\"Money hopefully comes in...\")\n",
    "        print(f\"{self.__class__.__name__} does photosynthesis\")\n",
    "\n",
    "\n",
    "venus = VenusFlyTrap()\n",
    "\n",
    "venus.venus_photosynthesis()\n"
   ]
  },
  {
   "cell_type": "code",
   "execution_count": 13,
   "metadata": {},
   "outputs": [
    {
     "ename": "AttributeError",
     "evalue": "'VenusFlyTrap' object has no attribute 'photosynthesis'",
     "output_type": "error",
     "traceback": [
      "\u001b[0;31m---------------------------------------------------------------------------\u001b[0m",
      "\u001b[0;31mAttributeError\u001b[0m                            Traceback (most recent call last)",
      "\u001b[1;32m/Users/johsan/GitHub/python-johan-sandberg/Code-alongs/L19-OOP-abstract-class.ipynb Cell 4\u001b[0m in \u001b[0;36m<cell line: 4>\u001b[0;34m()\u001b[0m\n\u001b[1;32m      <a href='vscode-notebook-cell:/Users/johsan/GitHub/python-johan-sandberg/Code-alongs/L19-OOP-abstract-class.ipynb#W4sZmlsZQ%3D%3D?line=1'>2</a>\u001b[0m plants \u001b[39m=\u001b[39m (VenusFlyTrap(), Monstera(), MoneyPlant())\n\u001b[1;32m      <a href='vscode-notebook-cell:/Users/johsan/GitHub/python-johan-sandberg/Code-alongs/L19-OOP-abstract-class.ipynb#W4sZmlsZQ%3D%3D?line=3'>4</a>\u001b[0m \u001b[39mfor\u001b[39;00m plant \u001b[39min\u001b[39;00m plants:\n\u001b[0;32m----> <a href='vscode-notebook-cell:/Users/johsan/GitHub/python-johan-sandberg/Code-alongs/L19-OOP-abstract-class.ipynb#W4sZmlsZQ%3D%3D?line=4'>5</a>\u001b[0m     plant\u001b[39m.\u001b[39;49mphotosynthesis()\n",
      "\u001b[0;31mAttributeError\u001b[0m: 'VenusFlyTrap' object has no attribute 'photosynthesis'"
     ]
    }
   ],
   "source": [
    "# want to use polymorphism and loop through these plants\n",
    "plants = (VenusFlyTrap(), Monstera(), MoneyPlant())\n",
    "\n",
    "for plant in plants:\n",
    "    plant.photosynthesis()"
   ]
  },
  {
   "cell_type": "markdown",
   "metadata": {},
   "source": [
    "## ABC - abstract base class\n",
    "\n",
    "- can make a base class abstract by giving it at least 1 abstract method\n",
    "- can't instatiate from an abstract class\n",
    "- subclasses of this abstract class must implement the abstract methods in order to be instantiable"
   ]
  },
  {
   "cell_type": "code",
   "execution_count": 14,
   "metadata": {},
   "outputs": [
    {
     "ename": "TypeError",
     "evalue": "Can't instantiate abstract class Plant with abstract method photosynthesis",
     "output_type": "error",
     "traceback": [
      "\u001b[0;31m---------------------------------------------------------------------------\u001b[0m",
      "\u001b[0;31mTypeError\u001b[0m                                 Traceback (most recent call last)",
      "\u001b[1;32m/Users/johsan/GitHub/python-johan-sandberg/Code-alongs/L19-OOP-abstract-class.ipynb Cell 6\u001b[0m in \u001b[0;36m<cell line: 9>\u001b[0;34m()\u001b[0m\n\u001b[1;32m      <a href='vscode-notebook-cell:/Users/johsan/GitHub/python-johan-sandberg/Code-alongs/L19-OOP-abstract-class.ipynb#X10sZmlsZQ%3D%3D?line=4'>5</a>\u001b[0m     \u001b[39m@abstractmethod\u001b[39m\n\u001b[1;32m      <a href='vscode-notebook-cell:/Users/johsan/GitHub/python-johan-sandberg/Code-alongs/L19-OOP-abstract-class.ipynb#X10sZmlsZQ%3D%3D?line=5'>6</a>\u001b[0m     \u001b[39mdef\u001b[39;00m \u001b[39mphotosynthesis\u001b[39m(\u001b[39mself\u001b[39m):\n\u001b[1;32m      <a href='vscode-notebook-cell:/Users/johsan/GitHub/python-johan-sandberg/Code-alongs/L19-OOP-abstract-class.ipynb#X10sZmlsZQ%3D%3D?line=6'>7</a>\u001b[0m         \u001b[39mpass\u001b[39;00m\n\u001b[0;32m----> <a href='vscode-notebook-cell:/Users/johsan/GitHub/python-johan-sandberg/Code-alongs/L19-OOP-abstract-class.ipynb#X10sZmlsZQ%3D%3D?line=8'>9</a>\u001b[0m planty \u001b[39m=\u001b[39m Plant()\n",
      "\u001b[0;31mTypeError\u001b[0m: Can't instantiate abstract class Plant with abstract method photosynthesis"
     ]
    }
   ],
   "source": [
    "from abc import abstractmethod, ABC\n",
    "\n",
    "# the abstract class must inherit from ABC (abstract base class)\n",
    "class Plant(ABC):\n",
    "    @abstractmethod\n",
    "    def photosynthesis(self):\n",
    "        pass\n",
    "\n",
    "# can't instantiate from an abstract class, a class is abstract if it has an abstract method\n",
    "planty = Plant()"
   ]
  },
  {
   "cell_type": "code",
   "execution_count": 29,
   "metadata": {},
   "outputs": [
    {
     "name": "stdout",
     "output_type": "stream",
     "text": [
      "<__main__.MoneyPlant object at 0x10758c460>\n",
      "Monstera looking cool...\n",
      "Monstera does photosynthesis\n",
      "Money hopefully comes in...\n",
      "MoneyPlant does photosynthesis\n",
      "VenusFlyTrap does photosynthesis\n"
     ]
    }
   ],
   "source": [
    "from abc import abstractmethod, ABC\n",
    "\n",
    "class Plant(ABC):\n",
    "    @abstractmethod\n",
    "    def photosynthesis(self):\n",
    "        pass\n",
    "\n",
    "# developer 1\n",
    "class VenusFlyTrap(Plant):\n",
    "    def photosynthesis(self):\n",
    "        # instance - what class ? - what name of class?\n",
    "        print(f\"{self.__class__.__name__} does photosynthesis\")\n",
    "\n",
    "\n",
    "# developer 2\n",
    "class Monstera(Plant):\n",
    "    def photosynthesis(self):\n",
    "        print(\"Monstera looking cool...\")\n",
    "        print(f\"{self.__class__.__name__} does photosynthesis\")\n",
    "\n",
    "# developer 3\n",
    "class MoneyPlant(Plant):\n",
    "    def photosynthesis(self):\n",
    "        print(\"Money hopefully comes in...\")\n",
    "        print(f\"{self.__class__.__name__} does photosynthesis\")\n",
    "\n",
    "monet = MoneyPlant()\n",
    "print(monet)\n",
    "\n",
    "# we inherit from Plant, so Monstera has a method called photosynthesis that is abstract making Monstera abstract\n",
    "# we change name of functions to photosynthesis(), (forcing consistent method naming across developers through abstract class)\n",
    "monsteru = Monstera()\n",
    "\n",
    "venus = VenusFlyTrap()\n",
    "\n",
    "for plant in (monsteru, monet, venus):\n",
    "    plant.photosynthesis()"
   ]
  }
 ],
 "metadata": {
  "kernelspec": {
   "display_name": "Python 3.9.13 ('python-johan-sandberg-x4O3kqDM')",
   "language": "python",
   "name": "python3"
  },
  "language_info": {
   "codemirror_mode": {
    "name": "ipython",
    "version": 3
   },
   "file_extension": ".py",
   "mimetype": "text/x-python",
   "name": "python",
   "nbconvert_exporter": "python",
   "pygments_lexer": "ipython3",
   "version": "3.9.13"
  },
  "orig_nbformat": 4,
  "vscode": {
   "interpreter": {
    "hash": "da9dd422ea5b832177d9cab6ed09096dc8afb770f75d972c39385656daeae52e"
   }
  }
 },
 "nbformat": 4,
 "nbformat_minor": 2
}
