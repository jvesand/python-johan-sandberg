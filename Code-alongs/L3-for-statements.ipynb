{
 "cells": [
  {
   "cell_type": "markdown",
   "metadata": {},
   "source": [
    "# for loop"
   ]
  },
  {
   "cell_type": "code",
   "execution_count": 3,
   "metadata": {},
   "outputs": [
    {
     "name": "stdout",
     "output_type": "stream",
     "text": [
      "0 hej\n",
      "1 hej\n",
      "2 hej\n",
      "3 hej\n",
      "4 hej\n"
     ]
    }
   ],
   "source": [
    "for i in range(5):\n",
    "    print(i, \"hej\")"
   ]
  },
  {
   "cell_type": "code",
   "execution_count": 5,
   "metadata": {},
   "outputs": [
    {
     "name": "stdout",
     "output_type": "stream",
     "text": [
      "0\t1\t2\t3\t4\t5\t6\t7\t8\t9\t"
     ]
    }
   ],
   "source": [
    "for i in range(10):\n",
    "    # print(i, end = \" \")\n",
    "    print(i, end = \"\\t\")"
   ]
  },
  {
   "cell_type": "code",
   "execution_count": 8,
   "metadata": {},
   "outputs": [
    {
     "name": "stdout",
     "output_type": "stream",
     "text": [
      "0+1+2+...+9 = 45\n"
     ]
    }
   ],
   "source": [
    "my_sum = 0\n",
    "\n",
    "for i in range(10):\n",
    "    my_sum += i\n",
    "\n",
    "print(f\"0+1+2+...+9 = {my_sum}\")"
   ]
  },
  {
   "cell_type": "code",
   "execution_count": 24,
   "metadata": {},
   "outputs": [
    {
     "name": "stdout",
     "output_type": "stream",
     "text": [
      "2\n",
      "5\n",
      "8\n"
     ]
    }
   ],
   "source": [
    "for i in range(2, 10, 3):\n",
    "    print(i)"
   ]
  },
  {
   "cell_type": "markdown",
   "metadata": {},
   "source": [
    "# Loop through a list"
   ]
  },
  {
   "cell_type": "code",
   "execution_count": 9,
   "metadata": {},
   "outputs": [
    {
     "name": "stdout",
     "output_type": "stream",
     "text": [
      "rabbit is cute\n",
      "guinea is cute\n",
      "cat is cute\n",
      "guppy is cute\n"
     ]
    }
   ],
   "source": [
    "cute_animals = [\"rabbit\", \"guinea\", \"cat\", \"guppy\"]\n",
    "\n",
    "for animal in cute_animals:\n",
    "    print(f\"{animal} is cute\")"
   ]
  },
  {
   "cell_type": "markdown",
   "metadata": {},
   "source": [
    "# random module"
   ]
  },
  {
   "cell_type": "code",
   "execution_count": 21,
   "metadata": {},
   "outputs": [
    {
     "name": "stdout",
     "output_type": "stream",
     "text": [
      "number_six= 181\n",
      "Proportion of sixes 0.181\n"
     ]
    }
   ],
   "source": [
    "import random as rnd\n",
    "\n",
    "dice = rnd.randint(1,6)\n",
    "number_six = 0\n",
    "number_rolls = 1000\n",
    "\n",
    "for i in range(number_rolls):\n",
    "    dice = rnd.randint(1,6)\n",
    "    if dice == 6:\n",
    "        number_six += 1\n",
    "\n",
    "print(f\"{number_six= }\")\n",
    "print(f\"Proportion of sixes {number_six/number_rolls}\")\n",
    "\n",
    "# why convergence to 0.166..."
   ]
  },
  {
   "cell_type": "markdown",
   "metadata": {},
   "source": []
  }
 ],
 "metadata": {
  "kernelspec": {
   "display_name": "Python 3.9.13 ('python-johan-sandberg-x4O3kqDM')",
   "language": "python",
   "name": "python3"
  },
  "language_info": {
   "codemirror_mode": {
    "name": "ipython",
    "version": 3
   },
   "file_extension": ".py",
   "mimetype": "text/x-python",
   "name": "python",
   "nbconvert_exporter": "python",
   "pygments_lexer": "ipython3",
   "version": "3.9.13"
  },
  "orig_nbformat": 4,
  "vscode": {
   "interpreter": {
    "hash": "da9dd422ea5b832177d9cab6ed09096dc8afb770f75d972c39385656daeae52e"
   }
  }
 },
 "nbformat": 4,
 "nbformat_minor": 2
}
