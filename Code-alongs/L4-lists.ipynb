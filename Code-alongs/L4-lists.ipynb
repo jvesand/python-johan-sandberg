{
 "cells": [
  {
   "cell_type": "markdown",
   "metadata": {},
   "source": [
    "# Lists"
   ]
  },
  {
   "cell_type": "markdown",
   "metadata": {},
   "source": [
    "## Access elements"
   ]
  },
  {
   "cell_type": "code",
   "execution_count": 39,
   "metadata": {},
   "outputs": [
    {
     "name": "stdout",
     "output_type": "stream",
     "text": [
      "['pizza', 'lasagne', 'spaghetti', 'bananas', 'grapes']\n",
      "nice_foods[0]='pizza'\n",
      "nice_foods[-1]='grapes'\n",
      "nice_foods[4]='grapes'\n",
      "nice_foods[2]='spaghetti'\n"
     ]
    }
   ],
   "source": [
    "# creates a new list with the some elements\n",
    "nice_foods = [\"pizza\", \"lasagne\", \"spaghetti\", \"bananas\", \"grapes\"]\n",
    "\n",
    "print(nice_foods)\n",
    "\n",
    "# gets first element\n",
    "print(f\"{nice_foods[0]=}\")\n",
    "\n",
    "# gets last element\n",
    "print(f\"{nice_foods[-1]=}\")\n",
    "print(f\"{nice_foods[4]=}\")\n",
    "\n",
    "# element in index 3\n",
    "print(f\"{nice_foods[2]=}\")\n",
    "print(f\"{nice_foods[-3]=}\")"
   ]
  },
  {
   "cell_type": "markdown",
   "metadata": {},
   "source": [
    "## Slicing"
   ]
  },
  {
   "cell_type": "code",
   "execution_count": 55,
   "metadata": {},
   "outputs": [
    {
     "name": "stdout",
     "output_type": "stream",
     "text": [
      "['pizza', 'lasagne', 'spaghetti', 'bananas', 'grapes']\n",
      "['lasagne', 'spaghetti', 'bananas']\n",
      "nice_foods[:-1]=['pizza', 'lasagne', 'spaghetti', 'bananas']\n",
      "nice_foods[:4]=['pizza', 'lasagne', 'spaghetti', 'bananas']\n",
      "nice_foods[::-1]=['grapes', 'bananas', 'spaghetti', 'lasagne', 'pizza']\n"
     ]
    }
   ],
   "source": [
    "print(nice_foods[0:5])\n",
    "print(nice_foods[1:4])\n",
    "\n",
    "# 0 to -2 (0,1,2,3)\n",
    "print(f\"{nice_foods[:-1]=}\")\n",
    "\n",
    "# 0 to 3 (0,1,2,3)\n",
    "print(f\"{nice_foods[:4]=}\")\n",
    "\n",
    "# reverses the list\n",
    "# :: is start m skip (how many to skip)\n",
    "print(f\"{nice_foods[::-1]=}\")"
   ]
  },
  {
   "cell_type": "code",
   "execution_count": 59,
   "metadata": {},
   "outputs": [
    {
     "name": "stdout",
     "output_type": "stream",
     "text": [
      "['bananas', 'grapes', 'lasagne', 'pizza', 'spaghetti']\n",
      "[-5, 1, 2, 5]\n"
     ]
    }
   ],
   "source": [
    "# sorting by first letter\n",
    "nice_foods.sort()\n",
    "print(nice_foods)\n",
    "\n",
    "numbers = [2,1,5,-5]\n",
    "numbers.sort()\n",
    "\n",
    "# sorting ascending\n",
    "print(numbers)"
   ]
  },
  {
   "cell_type": "markdown",
   "metadata": {},
   "source": [
    "## for-loop with enumerate"
   ]
  },
  {
   "cell_type": "code",
   "execution_count": 71,
   "metadata": {},
   "outputs": [
    {
     "name": "stdout",
     "output_type": "stream",
     "text": [
      "['bananas', 'grapes', 'lasagne', 'pizza', 'spaghetti']\n",
      "0. bananas\n",
      "1. grapes\n",
      "2. lasagne\n",
      "3. pizza\n",
      "4. spaghetti\n",
      "0. bananas\n",
      "1. grapes\n",
      "2. lasagne\n",
      "3. pizza\n",
      "4. spaghetti\n"
     ]
    }
   ],
   "source": [
    "print(nice_foods)\n",
    "\n",
    "# enumerate -> en tuple (index, element) in list\n",
    "for i, food in enumerate(nice_foods, 0):\n",
    "    print(f\"{i}. {food}\")\n",
    "\n",
    "# other languages\n",
    "for i in range(len(nice_foods)):\n",
    "    print(f\"{i}. {nice_foods[i]}\")"
   ]
  },
  {
   "cell_type": "markdown",
   "metadata": {},
   "source": [
    "## List comprehension"
   ]
  },
  {
   "cell_type": "code",
   "execution_count": 72,
   "metadata": {},
   "outputs": [
    {
     "data": {
      "text/plain": [
       "[0, 1, 8, 27, 64, 125, 216, 343, 512, 729]"
      ]
     },
     "execution_count": 72,
     "metadata": {},
     "output_type": "execute_result"
    }
   ],
   "source": [
    "# normal way using append\n",
    "\n",
    "cubes = []\n",
    "\n",
    "for i in range(10):\n",
    "    cubes.append(i**3)\n",
    "\n",
    "cubes"
   ]
  },
  {
   "cell_type": "code",
   "execution_count": 74,
   "metadata": {},
   "outputs": [
    {
     "data": {
      "text/plain": [
       "[0, 1, 8, 27, 64, 125, 216, 343, 512, 729]"
      ]
     },
     "execution_count": 74,
     "metadata": {},
     "output_type": "execute_result"
    }
   ],
   "source": [
    "# list comprehension\n",
    "cubes = [i**3 for i in range(10)]\n",
    "cubes"
   ]
  },
  {
   "cell_type": "code",
   "execution_count": 75,
   "metadata": {},
   "outputs": [
    {
     "data": {
      "text/plain": [
       "[1, 27, 125, 343, 729]"
      ]
     },
     "execution_count": 75,
     "metadata": {},
     "output_type": "execute_result"
    }
   ],
   "source": [
    "# cubes every odd number\n",
    "cubes_odd = [i**3 for i in range(10) if i%2!=0]\n",
    "cubes_odd"
   ]
  },
  {
   "cell_type": "code",
   "execution_count": 90,
   "metadata": {},
   "outputs": [
    {
     "data": {
      "text/plain": [
       "[6, 3, 6, 3, 1, 1, 4, 5, 1, 3]"
      ]
     },
     "execution_count": 90,
     "metadata": {},
     "output_type": "execute_result"
    }
   ],
   "source": [
    "import random as rnd\n",
    "# dice list\n",
    "\n",
    "# _ not using the loop variable (convention)\n",
    "dice = [rnd.randint(1,6) for _ in range(10)]\n",
    "dice"
   ]
  },
  {
   "cell_type": "markdown",
   "metadata": {},
   "source": [
    "## lists in list (nested lists)"
   ]
  },
  {
   "cell_type": "code",
   "execution_count": 97,
   "metadata": {},
   "outputs": [
    {
     "name": "stdout",
     "output_type": "stream",
     "text": [
      "grades[1]=['B', 20]\n",
      "grades[1][0]='B'\n",
      "grades[1][1]=20\n"
     ]
    }
   ],
   "source": [
    "grades = [[\"A\", 25], [\"B\", 20], [\"F\", 5]]\n",
    "\n",
    "print(f\"{grades[1]=}\")\n",
    "print(f\"{grades[1][0]=}\")\n",
    "print(f\"{grades[1][1]=}\")"
   ]
  }
 ],
 "metadata": {
  "kernelspec": {
   "display_name": "Python 3.9.13 ('python-johan-sandberg-x4O3kqDM')",
   "language": "python",
   "name": "python3"
  },
  "language_info": {
   "codemirror_mode": {
    "name": "ipython",
    "version": 3
   },
   "file_extension": ".py",
   "mimetype": "text/x-python",
   "name": "python",
   "nbconvert_exporter": "python",
   "pygments_lexer": "ipython3",
   "version": "3.9.13"
  },
  "orig_nbformat": 4,
  "vscode": {
   "interpreter": {
    "hash": "da9dd422ea5b832177d9cab6ed09096dc8afb770f75d972c39385656daeae52e"
   }
  }
 },
 "nbformat": 4,
 "nbformat_minor": 2
}
