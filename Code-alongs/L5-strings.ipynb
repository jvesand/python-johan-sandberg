{
 "cells": [
  {
   "cell_type": "markdown",
   "metadata": {},
   "source": [
    "# Strings"
   ]
  },
  {
   "cell_type": "code",
   "execution_count": 18,
   "metadata": {},
   "outputs": [
    {
     "name": "stdout",
     "output_type": "stream",
     "text": [
      "Johan Sandberg\n",
      "\n",
      "Name: Johan Sandberg\n",
      "Age 33\n",
      "Address: Gothenburg\n",
      "Phone: 112\n",
      "\n"
     ]
    }
   ],
   "source": [
    "firstname = \"Johan\"\n",
    "lastname = \"Sandberg\"\n",
    "\n",
    "# concatenate strings\n",
    "\n",
    "name = firstname + \" \" + lastname\n",
    "age = 33\n",
    "address = \"Gothenburg\"\n",
    "phone = \"112\"\n",
    "\n",
    "print(name)\n",
    "\n",
    "\n",
    "# multiline f-string\n",
    "\n",
    "contact = f\"\"\"\n",
    "Name: {name}\n",
    "Age {age}\n",
    "Address: {address}\n",
    "Phone: {phone}\n",
    "\"\"\"\n",
    "\n",
    "\"\"\"\n",
    "multiline\n",
    "comment\n",
    "\"\"\"\n",
    "\n",
    "print(contact)\n",
    "\n"
   ]
  },
  {
   "cell_type": "markdown",
   "metadata": {},
   "source": [
    "## Iterate through lists and concatenates"
   ]
  },
  {
   "cell_type": "code",
   "execution_count": 27,
   "metadata": {},
   "outputs": [
    {
     "name": "stdout",
     "output_type": "stream",
     "text": [
      "Plan \n",
      "Monday: AI intro\n",
      "Tuesday: Python\n",
      "Wednesday: Matte\n",
      "Thursday: Self study\n",
      "Friday: Chilla\n",
      "\n"
     ]
    }
   ],
   "source": [
    "schedule = [\"AI intro\", \"Python\", \"Matte\", \"Self study\", \"Chilla\"]\n",
    "days = [\"Monday\", \"Tuesday\", \"Wednesday\", \"Thursday\", \"Friday\"]\n",
    "\n",
    "week_plan = \"Plan \\n\"\n",
    "\n",
    "# can take more lists. works as long as they are ordered. ends with shortest list\n",
    "for day, task in zip(days, schedule):\n",
    "    week_plan += f\"{day}: {task}\\n\"\n",
    "\n",
    "# equivalent but messier\n",
    "# for i in range(len(days)):\n",
    "    # week_plan += f\"{days[i]}: {schedule[i]}\\n\"\n",
    "\n",
    "print(week_plan)"
   ]
  },
  {
   "cell_type": "markdown",
   "metadata": {},
   "source": [
    "# Indexing"
   ]
  },
  {
   "cell_type": "code",
   "execution_count": 34,
   "metadata": {},
   "outputs": [
    {
     "name": "stdout",
     "output_type": "stream",
     "text": [
      "quote[0]='!'\n",
      "quote[:6]='!False'\n",
      "quote[-4:]='true'\n",
      "Backwards: quote[::-1]=\"eurt s'ti esuaceb ynnuf s'ti - eslaF!\"\n",
      "Length of string: 37 characters\n"
     ]
    }
   ],
   "source": [
    "quote = \"!False - it's funny because it's true\"\n",
    "\n",
    "print(f\"{quote[0]=}\")\n",
    "print(f\"{quote[:6]=}\")\n",
    "print(f\"{quote[-4:]=}\")\n",
    "\n",
    "print(f\"Backwards: {quote[::-1]=}\")\n",
    "\n",
    "print(f\"Length of string: {len(quote)} characters\")"
   ]
  },
  {
   "cell_type": "markdown",
   "metadata": {},
   "source": [
    "# Split strings"
   ]
  },
  {
   "cell_type": "code",
   "execution_count": 43,
   "metadata": {},
   "outputs": [
    {
     "name": "stdout",
     "output_type": "stream",
     "text": [
      "numbers=[2.0, 3.0, 4.0]\n",
      "mean_value=3.0\n"
     ]
    }
   ],
   "source": [
    "# not possible to convert into float because of commas\n",
    "# numbers = float(input(\"Give three numbers (separated by commas): \"))\n",
    "\n",
    "numbers = input(\"Input three numbers (separated by commas): \")\n",
    "\n",
    "# 1. split the string into a list of 3 strings\n",
    "# 2. type convert each string into a float by iterating through the list\n",
    "\n",
    "numbers = [float(number) for number in numbers.split(\",\")]\n",
    "mean_value = sum(numbers)/len(numbers)\n",
    "\n",
    "print(f\"{numbers=}\")\n",
    "print(f\"{mean_value=}\")"
   ]
  },
  {
   "cell_type": "code",
   "execution_count": 56,
   "metadata": {},
   "outputs": [
    {
     "name": "stdout",
     "output_type": "stream",
     "text": [
      "Help on method_descriptor:\n",
      "\n",
      "split(self, /, sep=None, maxsplit=-1)\n",
      "    Return a list of the words in the string, using sep as the delimiter string.\n",
      "    \n",
      "    sep\n",
      "      The delimiter according which to split the string.\n",
      "      None (the default value) means split according to any whitespace,\n",
      "      and discard empty strings from the result.\n",
      "    maxsplit\n",
      "      Maximum number of splits to do.\n",
      "      -1 (the default value) means no limit.\n",
      "\n"
     ]
    }
   ],
   "source": [
    "numbers_test = \"2,3,4\" + \\\n",
    "    \"test\"\n",
    "numbers_test.split(\",\")\n",
    "help(str.split)"
   ]
  },
  {
   "cell_type": "markdown",
   "metadata": {},
   "source": [
    "## Split string into lines"
   ]
  },
  {
   "cell_type": "code",
   "execution_count": 89,
   "metadata": {},
   "outputs": [
    {
     "name": "stdout",
     "output_type": "stream",
     "text": [
      "alt with concat\n",
      "print can use concat without \\\n",
      "in print you do not need to use the backslash not even the concat\n",
      "\n",
      "alt multiline\n",
      "test\n",
      "\n"
     ]
    }
   ],
   "source": [
    "test = \"a string \\\n",
    "to split into lines\"\n",
    "\n",
    "test = \"alt with \" + \\\n",
    "    \"concat\"\n",
    "\n",
    "print(test)\n",
    "\n",
    "print(\"print can use \" +\n",
    "    \"concat without \\\\\")\n",
    "\n",
    "print(\"in print you do not \"\n",
    "    \"need to use \"\n",
    "    \"the backslash \"\n",
    "    \"not even the concat\")\n",
    "\n",
    "print(\"\"\"\n",
    "alt multiline\n",
    "test\n",
    "\"\"\")"
   ]
  },
  {
   "cell_type": "markdown",
   "metadata": {},
   "source": [
    "## Regular expressions\n",
    "\n",
    "- Find patterns in a string\n",
    "- e.g. phone numbers, email, capital letters, sequences"
   ]
  },
  {
   "cell_type": "code",
   "execution_count": 91,
   "metadata": {},
   "outputs": [
    {
     "name": "stdout",
     "output_type": "stream",
     "text": [
      "['021-452512', '042-321345', '739-232521']\n",
      "Hej\n",
      "då\n",
      "Hej\\nd\n"
     ]
    },
    {
     "data": {
      "text/plain": [
       "['021-452512', '042-321345', '739-232521']"
      ]
     },
     "execution_count": 91,
     "metadata": {},
     "output_type": "execute_result"
    }
   ],
   "source": [
    "import re\n",
    "\n",
    "text = \"My phone number is 021-452512\\\n",
    "Adas number is 042-321345, Bedas number is 0739-232521\"\n",
    "\n",
    "# extract the numbers\n",
    "# r\"\" = raw strings (tolkas som exakt som skrivet)\n",
    "match1 = re.findall(r\"\\d\\d\\d-\\d\\d\\d\\d\\d\\d\", text)\n",
    "\n",
    "print(match1)\n",
    "\n",
    "# raw string example\n",
    "print(\"Hej\\ndå\")\n",
    "print(r\"Hej\\nd\")\n",
    "\n",
    "match2 = re.findall(r\"\\d{3}-\\d{6}\", text)\n",
    "match2"
   ]
  },
  {
   "cell_type": "code",
   "execution_count": 96,
   "metadata": {},
   "outputs": [
    {
     "name": "stdout",
     "output_type": "stream",
     "text": [
      "['katt', 'hatt', 'matt', 'matt']\n",
      "['katter', 'hatt', 'schackmatt', 'skolmatt']\n"
     ]
    }
   ],
   "source": [
    "import re\n",
    "\n",
    "text = \"Det var en gång en katter, som tog på sig en hatt, och spelade schack\" + \\\n",
    "    \"fick schackmatt med hjälp av skolmatt\"\n",
    "\n",
    "match = re.findall(r\".att\", text)\n",
    "print(match)\n",
    "\n",
    "# try to extract whole words that ends with att\n",
    "match = re.findall(r\"[a-zA-Z]*att[a-zA-Z]*\", text)\n",
    "print(match)\n"
   ]
  }
 ],
 "metadata": {
  "kernelspec": {
   "display_name": "Python 3.9.13 ('python-johan-sandberg-x4O3kqDM')",
   "language": "python",
   "name": "python3"
  },
  "language_info": {
   "codemirror_mode": {
    "name": "ipython",
    "version": 3
   },
   "file_extension": ".py",
   "mimetype": "text/x-python",
   "name": "python",
   "nbconvert_exporter": "python",
   "pygments_lexer": "ipython3",
   "version": "3.9.13"
  },
  "orig_nbformat": 4,
  "vscode": {
   "interpreter": {
    "hash": "da9dd422ea5b832177d9cab6ed09096dc8afb770f75d972c39385656daeae52e"
   }
  }
 },
 "nbformat": 4,
 "nbformat_minor": 2
}
