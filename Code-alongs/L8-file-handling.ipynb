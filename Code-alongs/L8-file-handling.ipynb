{
 "cells": [
  {
   "cell_type": "markdown",
   "metadata": {},
   "source": [
    "# File handling"
   ]
  },
  {
   "cell_type": "markdown",
   "metadata": {},
   "source": [
    "Felhantering med with, and closes it automatically\n",
    "\n",
    "```\n",
    "with open(path, option) as name:\n",
    "    statements\n",
    "```\n",
    "\n",
    "options\n",
    "\n",
    "- \"r\": read\n",
    "- \"a\": append to a file (if it doesn't exit, it will create the file)\n",
    "- \"w\": write (if it doesn't exist, it will create the file)\n",
    "- \"x\": create a file, error if it already exists\n"
   ]
  },
  {
   "cell_type": "code",
   "execution_count": 6,
   "metadata": {},
   "outputs": [
    {
     "name": "stdout",
     "output_type": "stream",
     "text": [
      "  If     we     knew what it was      we were doing, it would not be called research,          would it?     - Albert Einstein\n",
      "\n",
      "Time is a drug. Too       much of it kills you.  -  Terry Pratchett\n",
      "\n",
      "\n",
      " An expert is a person who       has made all the mistakes that           can be made in a          very narrow field - Niels Bohr\n",
      "\n",
      "   Everything must be made as simple as possible. But not simpler. - Albert Einstein     \n",
      "\n",
      "\n",
      "  Nothing in life                is to be feared, it is only to be understood. Now is the time to understand more, so that we may fear less. - Marie  Curie  \n",
      "\n",
      "If I have seen further     it is by standing on the shoulders of Giants. - Isaac Newton\n"
     ]
    }
   ],
   "source": [
    "with open(\"../Data/quotes.txt\", 'r') as f:\n",
    "    text = f.read()\n",
    "\n",
    "print(text)"
   ]
  },
  {
   "cell_type": "markdown",
   "metadata": {},
   "source": [
    "# Cleaning up quotes.txt\n",
    "\n",
    "- inspect txt-file manually (some prankster has added random noise in form of whitespace and newlines)\n",
    "- remove leading and trailing whitespaces\n",
    "- remove excessive white spaces in between words\n",
    "- add quote numbers"
   ]
  },
  {
   "cell_type": "code",
   "execution_count": 111,
   "metadata": {},
   "outputs": [
    {
     "name": "stdout",
     "output_type": "stream",
     "text": [
      "'If we knew what it was we were doing, it would not be called research, would it? - Albert Einstein'\n",
      "''\n",
      "'Time is a drug. Too much of it kills you. - Terry Pratchett'\n",
      "''\n",
      "''\n",
      "'An expert is a person who has made all the mistakes that can be made in a very narrow field - Niels Bohr'\n",
      "''\n",
      "'Everything must be made as simple as possible. But not simpler. - Albert Einstein'\n",
      "''\n",
      "''\n",
      "'Nothing in life is to be feared, it is only to be understood. Now is the time to understand more, so that we may fear less. - Marie Curie'\n",
      "''\n",
      "'If I have seen further it is by standing on the shoulders of Giants. - Isaac Newton'\n"
     ]
    }
   ],
   "source": [
    "import re\n",
    "\n",
    "with open(\"../Data/quotes.txt\", 'r') as f_read, \\\n",
    "    open(\"../Data/quotes_clean.txt\", 'w') as f_write:\n",
    "\n",
    "    quote_number = 1\n",
    "\n",
    "    # loops through each line in the text file\n",
    "    for quote in f_read: # every line\n",
    "        quote = quote.strip(\" \\n\") # removes leading trailing whitespace and newlines\n",
    "        quote = re.sub(\" +\", \" \", quote) # regex to substitute >= 1 white space with 1 whitespace\n",
    "\n",
    "        # if not blank line, write to new file\n",
    "        # so write only overwrites when opening file as f_write\n",
    "        # makes sense to keep all manipulation within with, if writing at end\n",
    "        if quote != \"\":\n",
    "            f_write.write(f\"{quote_number}. {quote}\\n\")\n",
    "            quote_number += 1\n",
    "\n",
    "        print(repr(quote))"
   ]
  },
  {
   "cell_type": "markdown",
   "metadata": {},
   "source": [
    "## Pick out the authors\n",
    "\n",
    "- find digit to find quote\n",
    "- extract first name and last names\n",
    "- join into full name\n",
    "- gen unique values"
   ]
  },
  {
   "cell_type": "code",
   "execution_count": 112,
   "metadata": {},
   "outputs": [
    {
     "name": "stdout",
     "output_type": "stream",
     "text": [
      "['1. If we knew what it was we were doing, it would not be called research, would it? - Albert Einstein', '2. Time is a drug. Too much of it kills you. - Terry Pratchett', '3. An expert is a person who has made all the mistakes that can be made in a very narrow field - Niels Bohr', '4. Everything must be made as simple as possible. But not simpler. - Albert Einstein', '5. Nothing in life is to be feared, it is only to be understood. Now is the time to understand more, so that we may fear less. - Marie Curie', '6. If I have seen further it is by standing on the shoulders of Giants. - Isaac Newton']\n",
      "[['Albert', 'Einstein'], ['Terry', 'Pratchett'], ['Niels', 'Bohr'], ['Albert', 'Einstein'], ['Marie', 'Curie'], ['Isaac', 'Newton']]\n",
      "{'Terry Pratchett', 'Isaac Newton', 'Niels Bohr', 'Marie Curie', 'Albert Einstein'}\n",
      "test\n"
     ]
    }
   ],
   "source": [
    "with open(\"../Data/quotes_clean.txt\", 'r') as f_quotes, \\\n",
    "    open(\"../Data/quotes_clean.txt\", 'a') as f_append:\n",
    "\n",
    "    # quotes = [quote.strip(\"\\n\") for quote in f_quotes.read()] # quote is a letter\n",
    "    # quotes = [quote.strip(\"\\n\") for quote in f_quotes] # quote is a line\n",
    "\n",
    "    # .readlines() every line as a list\n",
    "    # strips away \"/n\"\n",
    "    quotes = [quote.strip(\"\\n\") for quote in f_quotes.readlines()] # quote is a line\n",
    "    print(quotes)\n",
    "    authors = [quote.split()[-2:] for quote in quotes]\n",
    "    print(authors)\n",
    "\n",
    "    # set - gives the unique elements (random order)\n",
    "    authors = set([\" \".join(author) for author in authors])\n",
    "    print(authors)\n",
    "\n",
    "    f_append.write(\"\\nAuthors: \")\n",
    "    for author in authors:\n",
    "        f_append.write(f\"{author},  \")\n"
   ]
  },
  {
   "cell_type": "code",
   "execution_count": 97,
   "metadata": {},
   "outputs": [
    {
     "data": {
      "text/plain": [
       "'Johan Sandberg'"
      ]
     },
     "execution_count": 97,
     "metadata": {},
     "output_type": "execute_result"
    }
   ],
   "source": [
    "name = [[\"Johan\", \"Sandberg\"]]\n",
    "\n",
    "\" \".join(name[0])"
   ]
  }
 ],
 "metadata": {
  "kernelspec": {
   "display_name": "Python 3.9.13 ('python-johan-sandberg-x4O3kqDM')",
   "language": "python",
   "name": "python3"
  },
  "language_info": {
   "codemirror_mode": {
    "name": "ipython",
    "version": 3
   },
   "file_extension": ".py",
   "mimetype": "text/x-python",
   "name": "python",
   "nbconvert_exporter": "python",
   "pygments_lexer": "ipython3",
   "version": "3.9.13"
  },
  "orig_nbformat": 4,
  "vscode": {
   "interpreter": {
    "hash": "da9dd422ea5b832177d9cab6ed09096dc8afb770f75d972c39385656daeae52e"
   }
  }
 },
 "nbformat": 4,
 "nbformat_minor": 2
}
