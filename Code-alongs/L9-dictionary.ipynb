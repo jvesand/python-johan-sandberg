{
 "cells": [
  {
   "cell_type": "markdown",
   "metadata": {},
   "source": [
    "# Dictionary\n",
    "\n",
    "- data structure that stores data in key:value pairs"
   ]
  },
  {
   "cell_type": "code",
   "execution_count": 14,
   "metadata": {},
   "outputs": [
    {
     "name": "stdout",
     "output_type": "stream",
     "text": [
      "person dictionary: {'name': 'Kokchun', 'age': 31, 'work': 'AI teacher', 'interests': ['math', 'yoga', 'gardening', 'programming', 'walking'], 'phone': 112}\n",
      "person work: AI teacher\n",
      "person age: 31\n",
      "\n",
      "person interests: ['math', 'yoga', 'gardening', 'programming', 'walking']\n",
      "person interests: ['math', 'yoga']\n",
      "\n",
      "Kokchun likes math\n",
      "Kokchun likes yoga\n",
      "Kokchun likes gardening\n",
      "Kokchun likes programming\n",
      "Kokchun likes walking\n"
     ]
    }
   ],
   "source": [
    "# create a dictionary with dict keyword\n",
    "person = dict(\n",
    "    name = \"Kokchun\", \n",
    "    age=31, \n",
    "    work=\"AI teacher\", \n",
    "    interests=[\"math\", \"yoga\", \"gardening\", \"programming\", \"walking\"], \n",
    "    phone=112\n",
    ")\n",
    "\n",
    "print(f\"person dictionary: {person}\")\n",
    "print(f\"person work: {person['work']}\")\n",
    "print(f\"person age: {person['age']}\\n\")\n",
    "\n",
    "print(f\"person interests: {person['interests']}\")\n",
    "print(f\"person interests: {person['interests'][:2]}\\n\")\n",
    "\n",
    "for interest in person['interests']:\n",
    "    print(f\"Kokchun likes {interest}\")\n"
   ]
  },
  {
   "cell_type": "code",
   "execution_count": 21,
   "metadata": {},
   "outputs": [
    {
     "name": "stdout",
     "output_type": "stream",
     "text": [
      "{'assign': 'assigns a value to a variable', 'dictionary': 'data structure to store data in key-value pairs', 'method': 'a function bound to an object'}\n",
      "We will learn these glosor \n",
      "\n",
      "assign  -  assigns a value to a variable\n",
      "dictionary  -  data structure to store data in key-value pairs\n",
      "method  -  a function bound to an object\n"
     ]
    }
   ],
   "source": [
    "# create dictionary with curly brace {}\n",
    "words = {\n",
    "    \"assign\": \"assigns a value to a variable\",\n",
    "    \"dictionary\": \"data structure to store data in key-value pairs\",\n",
    "    \"method\": \"a function bound to an object\",\n",
    "    }\n",
    "\n",
    "print(words)\n",
    "print(\"We will learn these glosor \\n\")\n",
    "\n",
    "for key in words:\n",
    "    print(key, \" - \", words[key])"
   ]
  },
  {
   "cell_type": "code",
   "execution_count": 31,
   "metadata": {},
   "outputs": [
    {
     "name": "stdout",
     "output_type": "stream",
     "text": [
      "assign              assigns a value to a variable\n",
      "dictionary          data structure to store data in key-value pairs\n",
      "method              a function bound to an object\n",
      "....................\n"
     ]
    }
   ],
   "source": [
    "print(\"Glosor \\n\")\n",
    "for key, value in words.items():\n",
    "    print(f\"{key:<20}{value}\") # :<20 is to right align with width 20\n",
    "\n",
    "print(\".\"*20)"
   ]
  },
  {
   "cell_type": "code",
   "execution_count": 42,
   "metadata": {},
   "outputs": [
    {
     "name": "stdout",
     "output_type": "stream",
     "text": [
      "{'F': 0, 'E': 10, 'D': 20, 'C': 30, 'B': 40, 'A': 50}\n"
     ]
    },
    {
     "data": {
      "text/plain": [
       "{'F': '< 10',\n",
       " 'E': 10,\n",
       " 'D': 20,\n",
       " 'C': 30,\n",
       " 'B': 40,\n",
       " 'A': 50,\n",
       " 'Course': 'Programmering 1'}"
      ]
     },
     "execution_count": 42,
     "metadata": {},
     "output_type": "execute_result"
    }
   ],
   "source": [
    "# F < 10, E : 10, D : 20, C : 30, B : 40, A : 50\n",
    "\n",
    "# empty dictionary\n",
    "grade_limit = {}\n",
    "\n",
    "# [::-1] reverses a list, enumerate gives index and list element\n",
    "for i, character in enumerate(\"ABCDEF\"[::-1]):\n",
    "    grade_limit[character] = i*10\n",
    "\n",
    "print(grade_limit)\n",
    "\n",
    "# assigns a new value that is associated with the key F\n",
    "grade_limit[\"F\"] = \"< 10\"\n",
    "grade_limit[\"Course\"] = \"Programmering 1\"\n",
    "grade_limit"
   ]
  },
  {
   "cell_type": "markdown",
   "metadata": {},
   "source": [
    "# Dictionary comprehension"
   ]
  },
  {
   "cell_type": "code",
   "execution_count": 71,
   "metadata": {},
   "outputs": [
    {
     "name": "stdout",
     "output_type": "stream",
     "text": [
      "grade_limit={'F': 0, 'E': 10, 'D': 20, 'C': 30, 'B': 40, 'A': 50}\n",
      "scores=[39, 59, 34, 45, 23, 36, 37, 46, 10, 49, 52, 21, 24, 40, 50, 23, 58, 19, 25, 44, 13, 48, 42, 55, 58, 23, 6, 27, 52, 40]\n",
      "{'F': 0, 'E': 0, 'D': 0, 'C': 0, 'B': 0, 'A': 0}\n",
      "{'F': 1, 'E': 3, 'D': 7, 'C': 4, 'B': 8, 'A': 7}\n"
     ]
    }
   ],
   "source": [
    "import random as rnd\n",
    "\n",
    "# in list just i for i, in dictionary key: i for i, key\n",
    "grade_limit = {grade: i*10 for i, grade in enumerate(\"ABCDEF\"[::-1])}\n",
    "\n",
    "def generate_scores(number_students):\n",
    "    rnd.seed(1337) # reproducible randomness\n",
    "    scores = [rnd.randint(0,60) for _ in range(number_students)]\n",
    "    return scores\n",
    "\n",
    "scores = generate_scores(30)\n",
    "\n",
    "print(f\"{grade_limit=}\")\n",
    "print(f\"{scores=}\")\n",
    "\n",
    "# number of students in each grade category\n",
    "students_in_grade = {key: 0 for key in grade_limit}\n",
    "\n",
    "print(students_in_grade)\n",
    "\n",
    "for score in scores:\n",
    "    for grade, limit in grade_limit.items():\n",
    "        if limit <= score < limit+10:\n",
    "            students_in_grade[grade] += 1\n",
    "\n",
    "print(students_in_grade)"
   ]
  },
  {
   "cell_type": "code",
   "execution_count": 72,
   "metadata": {},
   "outputs": [
    {
     "data": {
      "text/plain": [
       "30"
      ]
     },
     "execution_count": 72,
     "metadata": {},
     "output_type": "execute_result"
    }
   ],
   "source": [
    "# check that all students have been put into categories\n",
    "total_students = 0\n",
    "for _, number_students in students_in_grade.items():\n",
    "    total_students += number_students\n",
    "\n",
    "total_students"
   ]
  }
 ],
 "metadata": {
  "kernelspec": {
   "display_name": "Python 3.9.13 ('python-johan-sandberg-x4O3kqDM')",
   "language": "python",
   "name": "python3"
  },
  "language_info": {
   "codemirror_mode": {
    "name": "ipython",
    "version": 3
   },
   "file_extension": ".py",
   "mimetype": "text/x-python",
   "name": "python",
   "nbconvert_exporter": "python",
   "pygments_lexer": "ipython3",
   "version": "3.9.13"
  },
  "orig_nbformat": 4,
  "vscode": {
   "interpreter": {
    "hash": "da9dd422ea5b832177d9cab6ed09096dc8afb770f75d972c39385656daeae52e"
   }
  }
 },
 "nbformat": 4,
 "nbformat_minor": 2
}
