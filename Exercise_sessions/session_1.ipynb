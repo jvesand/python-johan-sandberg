{
 "cells": [
  {
   "cell_type": "markdown",
   "metadata": {},
   "source": [
    "# Exercise session 1"
   ]
  },
  {
   "cell_type": "markdown",
   "metadata": {},
   "source": [
    "Valid angle:\n",
    "\n",
    "- positive\n",
    "- $ \\alpha + \\beta + \\gamma = 180 $\n",
    "\n",
    "Check if one angle is 90 $^\\circ$"
   ]
  },
  {
   "cell_type": "code",
   "execution_count": null,
   "metadata": {},
   "outputs": [],
   "source": [
    "angles = input(\"Ange tre vinklar separerade med mellanslag: \")\n",
    "\n",
    "#angles = \"30 60 90\"\n",
    "print(angles.split())\n",
    "\n",
    "# angles.split() -> gives a list of strings\n",
    "# angle -> gets value of each list item (strings)\n",
    "# float(angle) -> type converts each string element to decimal number\n",
    "angles = [float(angle) for angle in angles.split()]\n",
    "\n",
    "if sum(angles) != 180:\n",
    "    print(\"Vinkelsumman ej 180\")\n",
    "\n",
    "for angle in angles:\n",
    "    if not 0 <= angle <= 180:\n",
    "        print(\"Vinkeln är inte mellan 0 och 180\")\n",
    "\n",
    "    if angle == 90:\n",
    "        print(\"Rätvinklig\")"
   ]
  }
 ],
 "metadata": {
  "kernelspec": {
   "display_name": "Python 3.9.13 ('python-johan-sandberg-x4O3kqDM')",
   "language": "python",
   "name": "python3"
  },
  "language_info": {
   "codemirror_mode": {
    "name": "ipython",
    "version": 3
   },
   "file_extension": ".py",
   "mimetype": "text/x-python",
   "name": "python",
   "nbconvert_exporter": "python",
   "pygments_lexer": "ipython3",
   "version": "3.9.13"
  },
  "orig_nbformat": 4,
  "vscode": {
   "interpreter": {
    "hash": "da9dd422ea5b832177d9cab6ed09096dc8afb770f75d972c39385656daeae52e"
   }
  }
 },
 "nbformat": 4,
 "nbformat_minor": 2
}
