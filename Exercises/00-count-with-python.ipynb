{
 "cells": [
  {
   "cell_type": "markdown",
   "metadata": {},
   "source": [
    "# 1. Pythagorean theorem"
   ]
  },
  {
   "cell_type": "markdown",
   "metadata": {},
   "source": [
    "## A)"
   ]
  },
  {
   "cell_type": "code",
   "execution_count": 2,
   "metadata": {},
   "outputs": [
    {
     "data": {
      "text/plain": [
       "3.0"
      ]
     },
     "execution_count": 2,
     "metadata": {},
     "output_type": "execute_result"
    }
   ],
   "source": [
    "import math\n",
    "math.sqrt(9)"
   ]
  },
  {
   "cell_type": "code",
   "execution_count": 24,
   "metadata": {},
   "outputs": [
    {
     "name": "stdout",
     "output_type": "stream",
     "text": [
      "The hypothenuse=5.0\n"
     ]
    }
   ],
   "source": [
    "catheti_a = 3\n",
    "catheti_b = 4\n",
    "\n",
    "hypothenuse = math.sqrt(catheti_a**2 + catheti_b**2)\n",
    "\n",
    "print(f\"The {hypothenuse=}\")"
   ]
  },
  {
   "cell_type": "markdown",
   "metadata": {},
   "source": [
    "## B)"
   ]
  },
  {
   "cell_type": "code",
   "execution_count": 23,
   "metadata": {},
   "outputs": [
    {
     "name": "stdout",
     "output_type": "stream",
     "text": [
      "4.9\n"
     ]
    }
   ],
   "source": [
    "hypothenuse = 7\n",
    "catheti_a = 5\n",
    "\n",
    "catheti_b = (7**2 - 5**2)**(1/2)\n",
    "print(f\"{catheti_b:.1f}\")"
   ]
  },
  {
   "cell_type": "markdown",
   "metadata": {},
   "source": [
    "# 2. Classification accuracy"
   ]
  },
  {
   "cell_type": "code",
   "execution_count": 33,
   "metadata": {},
   "outputs": [
    {
     "name": "stdout",
     "output_type": "stream",
     "text": [
      "The model has accuracy=0.82%\n"
     ]
    }
   ],
   "source": [
    "accuracy = 300/365\n",
    "\n",
    "print(f\"The model has {accuracy=:.2f}%\")"
   ]
  },
  {
   "cell_type": "markdown",
   "metadata": {},
   "source": [
    "# 3. Classification accuracy\n",
    "\n",
    "$ accuracy = \\frac{TP+TN}{TP+TN+FP+FN} $\n",
    "\n",
    "$ sensitivity = \\frac{TP}{TP+FN} $\n",
    "\n",
    "$ specificity = \\frac{TN}{TN+FP} $"
   ]
  },
  {
   "cell_type": "code",
   "execution_count": 5,
   "metadata": {},
   "outputs": [
    {
     "name": "stdout",
     "output_type": "stream",
     "text": [
      "The model accuracy=0.987% suggests it is a good model\n",
      "However, while the specificity=0.998, it has low sensitivity=0.154\n"
     ]
    }
   ],
   "source": [
    "tp = 2\n",
    "fp = 2\n",
    "fn = 11\n",
    "tn = 985\n",
    "\n",
    "correct = tp + tn\n",
    "incorrect = fp + fn\n",
    "\n",
    "accuracy = correct / (correct + incorrect)\n",
    "\n",
    "print(f\"The model {accuracy=}% suggests it is a good model\")\n",
    "\n",
    "sensitivity = tp / (tp + fn) # predicted positive out of all positive\n",
    "specificity = tn / (tn + fp) # predicted negative out of all negative\n",
    "\n",
    "print(f\"However, while the {specificity=:.3f}, it has low {sensitivity=:.3f}\")"
   ]
  },
  {
   "cell_type": "markdown",
   "metadata": {},
   "source": [
    "# 4. Line"
   ]
  },
  {
   "cell_type": "code",
   "execution_count": 43,
   "metadata": {},
   "outputs": [
    {
     "name": "stdout",
     "output_type": "stream",
     "text": [
      "The equation for the slope is y=0.75x + 1\n"
     ]
    }
   ],
   "source": [
    "delta_y = (4 - 1)\n",
    "delta_x = (4 - 0)\n",
    "\n",
    "k = (delta_y / delta_x)\n",
    "m = 4 - k*4\n",
    "\n",
    "print(f\"The equation for the slope is y={k}x + {m:.0f}\")"
   ]
  },
  {
   "cell_type": "markdown",
   "metadata": {},
   "source": [
    "# 5. Euclidean distance"
   ]
  },
  {
   "cell_type": "code",
   "execution_count": 51,
   "metadata": {},
   "outputs": [
    {
     "name": "stdout",
     "output_type": "stream",
     "text": [
      "The distance=5.1\n"
     ]
    }
   ],
   "source": [
    "distance_x = -2 - 3\n",
    "distance_y = 4 - 5\n",
    "\n",
    "distance = math.sqrt(distance_x**2 + distance_y**2)\n",
    "\n",
    "print(f\"The {distance=:.1f}\")\n"
   ]
  },
  {
   "cell_type": "markdown",
   "metadata": {},
   "source": [
    "# 6. Euclidean distance in 3D"
   ]
  },
  {
   "cell_type": "code",
   "execution_count": 7,
   "metadata": {},
   "outputs": [
    {
     "name": "stdout",
     "output_type": "stream",
     "text": [
      "The distance=4.1\n"
     ]
    }
   ],
   "source": [
    "import math\n",
    "\n",
    "p1 = [2,1,4]\n",
    "p2 = [3,1,0]\n",
    "\n",
    "distance = math.sqrt((p1[0] - p2[0])**2 \\\n",
    "    + (p1[1] - p2[1])**2 + (p1[2] - p2[2])**2)\n",
    "\n",
    "print(f\"The {distance=:.1f}\")"
   ]
  },
  {
   "cell_type": "code",
   "execution_count": null,
   "metadata": {},
   "outputs": [],
   "source": []
  }
 ],
 "metadata": {
  "kernelspec": {
   "display_name": "Python 3.9.1 ('python-johan-sandberg-x4O3kqDM')",
   "language": "python",
   "name": "python3"
  },
  "language_info": {
   "codemirror_mode": {
    "name": "ipython",
    "version": 3
   },
   "file_extension": ".py",
   "mimetype": "text/x-python",
   "name": "python",
   "nbconvert_exporter": "python",
   "pygments_lexer": "ipython3",
   "version": "3.9.13"
  },
  "orig_nbformat": 4,
  "vscode": {
   "interpreter": {
    "hash": "da9dd422ea5b832177d9cab6ed09096dc8afb770f75d972c39385656daeae52e"
   }
  }
 },
 "nbformat": 4,
 "nbformat_minor": 2
}
