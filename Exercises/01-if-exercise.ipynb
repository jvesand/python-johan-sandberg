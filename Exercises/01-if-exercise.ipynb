{
 "cells": [
  {
   "cell_type": "markdown",
   "metadata": {},
   "source": [
    "# 1. Check sign"
   ]
  },
  {
   "cell_type": "code",
   "execution_count": 7,
   "metadata": {},
   "outputs": [
    {
     "name": "stdout",
     "output_type": "stream",
     "text": [
      "The number is negative\n"
     ]
    }
   ],
   "source": [
    "num = int(input(\"Input a number\"))\n",
    "\n",
    "if num > 0:\n",
    "    print(\"The number if positive\")\n",
    "elif num < 0:\n",
    "    print(\"The number is negative\")\n",
    "else:\n",
    "    print(\"The number is zero\")\n"
   ]
  },
  {
   "cell_type": "markdown",
   "metadata": {},
   "source": [
    "# 2. Smallest"
   ]
  },
  {
   "cell_type": "code",
   "execution_count": 3,
   "metadata": {},
   "outputs": [
    {
     "name": "stdout",
     "output_type": "stream",
     "text": [
      "The second number (45) is smaller than the first (55)\n"
     ]
    }
   ],
   "source": [
    "num1 = int(input(\"Input a number\"))\n",
    "num2 = int(input(\"Input another number\"))\n",
    "\n",
    "if num1 > num2:\n",
    "    print(f\"The second number ({num2}) is smaller than the first ({num1})\")\n",
    "elif num1 < num2:\n",
    "    print(f\"The first number ({num1}) is smaller than the second ({num2})\")\n",
    "else:\n",
    "    print(\"Same number\")"
   ]
  },
  {
   "cell_type": "markdown",
   "metadata": {},
   "source": [
    "# 3. Right angle"
   ]
  },
  {
   "cell_type": "code",
   "execution_count": 18,
   "metadata": {},
   "outputs": [
    {
     "name": "stdout",
     "output_type": "stream",
     "text": [
      "Triangle does not have a right triangle\n"
     ]
    }
   ],
   "source": [
    "angle1 = int(input(\"Input the first angle of the triangle\"))\n",
    "angle2 = int(input(\"Input the second angle of the triangle\"))\n",
    "angle3 = int(input(\"Input the third angle of the triangle\"))\n",
    "\n",
    "if (angle1 + angle2 + angle3) != 180:\n",
    "    print(\"Not a triangle\")\n",
    "else:\n",
    "    if angle1 <=0 or angle2 <=0 or angle3 <=0:\n",
    "        print(\"Not a triangle\")\n",
    "    elif angle1 == 90 or angle2 == 90 or angle3 == 90:\n",
    "        print(\"Triangle has a right angle\")\n",
    "    else:\n",
    "        print(\"Triangle does not have a right triangle\")"
   ]
  },
  {
   "cell_type": "markdown",
   "metadata": {},
   "source": [
    "# 4. Medicine"
   ]
  },
  {
   "cell_type": "code",
   "execution_count": 11,
   "metadata": {},
   "outputs": [
    {
     "name": "stdout",
     "output_type": "stream",
     "text": [
      "Something went wrong\n"
     ]
    }
   ],
   "source": [
    "weight = int(input(\"Input your weight (kg): \"))\n",
    "\n",
    "if weight > 40:\n",
    "    print(\"You get 1-2 pills\")\n",
    "elif 26 <= weight <= 40:\n",
    "    print(\"You get 1/2 - 1 pills\")\n",
    "elif 15 <= weight <= 25:\n",
    "    print(\"You get 1/2 pills\")\n",
    "else:\n",
    "    print(\"Too skinny, no pills\")"
   ]
  },
  {
   "cell_type": "markdown",
   "metadata": {},
   "source": [
    "# 5. Divisible"
   ]
  },
  {
   "cell_type": "code",
   "execution_count": 19,
   "metadata": {},
   "outputs": [
    {
     "name": "stdout",
     "output_type": "stream",
     "text": [
      "Number is divsible by 5 and is odd\n"
     ]
    }
   ],
   "source": [
    "number = int(input(\"input a number: \"))\n",
    "\n",
    "if number % 5 == 0:\n",
    "    if number % 2 != 0:\n",
    "        print(\"Number is divsible by 5 and is odd\")\n",
    "    else:\n",
    "        print (\"Number is divisible by 5 and even\")\n",
    "elif number % 2 == 0:\n",
    "    print(\"Number is not divisible by 5, but is even\")\n",
    "else:\n",
    "    print(\"Number is not divisible by 5 and is odd\")"
   ]
  },
  {
   "cell_type": "markdown",
   "metadata": {},
   "source": [
    "# 6. Luggage size"
   ]
  },
  {
   "cell_type": "code",
   "execution_count": 20,
   "metadata": {},
   "outputs": [
    {
     "name": "stdout",
     "output_type": "stream",
     "text": [
      "Good to go\n"
     ]
    }
   ],
   "source": [
    "weight = int(input(\"Input weight (kg): \"))\n",
    "length = int(input(\"Input length (cm): \"))\n",
    "width = int(input(\"Input width (cm): \"))\n",
    "height = int(input(\"Input height (cm): \"))\n",
    "\n",
    "if weight > 8:\n",
    "    print(\"Too heavy\")\n",
    "elif length > 55:\n",
    "    print(\"Too long\")\n",
    "elif width > 40:\n",
    "    print(\"Too wide)\")\n",
    "elif height > 23:\n",
    "    print(\"Too high\")\n",
    "else:\n",
    "    print(\"Good to go\")"
   ]
  },
  {
   "cell_type": "code",
   "execution_count": null,
   "metadata": {},
   "outputs": [],
   "source": []
  }
 ],
 "metadata": {
  "kernelspec": {
   "display_name": "Python 3.9.1 ('python-johan-sandberg-x4O3kqDM')",
   "language": "python",
   "name": "python3"
  },
  "language_info": {
   "codemirror_mode": {
    "name": "ipython",
    "version": 3
   },
   "file_extension": ".py",
   "mimetype": "text/x-python",
   "name": "python",
   "nbconvert_exporter": "python",
   "pygments_lexer": "ipython3",
   "version": "3.9.13"
  },
  "orig_nbformat": 4,
  "vscode": {
   "interpreter": {
    "hash": "da9dd422ea5b832177d9cab6ed09096dc8afb770f75d972c39385656daeae52e"
   }
  }
 },
 "nbformat": 4,
 "nbformat_minor": 2
}
