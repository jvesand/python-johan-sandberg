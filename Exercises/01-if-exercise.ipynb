{
 "cells": [
  {
   "cell_type": "markdown",
   "metadata": {},
   "source": [
    "# 1. Check sign"
   ]
  },
  {
   "cell_type": "code",
   "execution_count": 7,
   "metadata": {},
   "outputs": [
    {
     "name": "stdout",
     "output_type": "stream",
     "text": [
      "The number is negative\n"
     ]
    }
   ],
   "source": [
    "num = int(input(\"Input a number\"))\n",
    "\n",
    "if num > 0:\n",
    "    print(\"The number if positive\")\n",
    "elif num < 0:\n",
    "    print(\"The number is negative\")\n",
    "else:\n",
    "    print(\"The number is zero\")\n"
   ]
  },
  {
   "cell_type": "markdown",
   "metadata": {},
   "source": [
    "# 2. Smallest"
   ]
  },
  {
   "cell_type": "code",
   "execution_count": 3,
   "metadata": {},
   "outputs": [
    {
     "name": "stdout",
     "output_type": "stream",
     "text": [
      "The second number (45) is smaller than the first (55)\n"
     ]
    }
   ],
   "source": [
    "num1 = int(input(\"Input a number\"))\n",
    "num2 = int(input(\"Input another number\"))\n",
    "\n",
    "if num1 > num2:\n",
    "    print(f\"The second number ({num2}) is smaller than the first ({num1})\")\n",
    "elif num1 < num2:\n",
    "    print(f\"The first number ({num1}) is smaller than the second ({num2})\")\n",
    "else:\n",
    "    print(\"Same number\")"
   ]
  },
  {
   "cell_type": "markdown",
   "metadata": {},
   "source": [
    "# 3. Right angle"
   ]
  },
  {
   "cell_type": "code",
   "execution_count": 18,
   "metadata": {},
   "outputs": [
    {
     "name": "stdout",
     "output_type": "stream",
     "text": [
      "Triangle does not have a right triangle\n"
     ]
    }
   ],
   "source": [
    "angle1 = int(input(\"Input the first angle of the triangle\"))\n",
    "angle2 = int(input(\"Input the second angle of the triangle\"))\n",
    "angle3 = int(input(\"Input the third angle of the triangle\"))\n",
    "\n",
    "if (angle1 + angle2 + angle3) != 180:\n",
    "    print(\"Not a triangle\")\n",
    "else:\n",
    "    if angle1 <=0 or angle2 <=0 or angle3 <=0:\n",
    "        print(\"Not a triangle\")\n",
    "    elif angle1 == 90 or angle2 == 90 or angle3 == 90:\n",
    "        print(\"Triangle has a right angle\")\n",
    "    else:\n",
    "        print(\"Triangle does not have a right triangle\")"
   ]
  },
  {
   "cell_type": "markdown",
   "metadata": {},
   "source": [
    "# 4. Medicine"
   ]
  },
  {
   "cell_type": "code",
   "execution_count": null,
   "metadata": {},
   "outputs": [],
   "source": []
  }
 ],
 "metadata": {
  "kernelspec": {
   "display_name": "Python 3.9.1 ('python-johan-sandberg-x4O3kqDM')",
   "language": "python",
   "name": "python3"
  },
  "language_info": {
   "codemirror_mode": {
    "name": "ipython",
    "version": 3
   },
   "file_extension": ".py",
   "mimetype": "text/x-python",
   "name": "python",
   "nbconvert_exporter": "python",
   "pygments_lexer": "ipython3",
   "version": "3.9.1"
  },
  "orig_nbformat": 4,
  "vscode": {
   "interpreter": {
    "hash": "da9dd422ea5b832177d9cab6ed09096dc8afb770f75d972c39385656daeae52e"
   }
  }
 },
 "nbformat": 4,
 "nbformat_minor": 2
}
