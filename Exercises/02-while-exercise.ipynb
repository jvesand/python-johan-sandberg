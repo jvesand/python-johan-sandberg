{
 "cells": [
  {
   "cell_type": "markdown",
   "metadata": {},
   "source": [
    "# 1. Count numbers"
   ]
  },
  {
   "cell_type": "code",
   "execution_count": 21,
   "metadata": {},
   "outputs": [
    {
     "name": "stdout",
     "output_type": "stream",
     "text": [
      "Here is the list of numbers: [-10, -9, -8, -7, -6, -5, -4, -3, -2, -1, 0, 1, 2, 3, 4, 5, 6, 7, 8, 9, 10]\n"
     ]
    }
   ],
   "source": [
    "i = -10\n",
    "i_list = []\n",
    "\n",
    "while i <= 10:\n",
    "    i_list.append(i)\n",
    "    i += 1\n",
    "    \n",
    "print(f\"Here is the list of numbers: {i_list}\")"
   ]
  },
  {
   "cell_type": "markdown",
   "metadata": {},
   "source": [
    "# 2. Arithmetic sum"
   ]
  },
  {
   "cell_type": "markdown",
   "metadata": {},
   "source": [
    "## A"
   ]
  },
  {
   "cell_type": "code",
   "execution_count": 24,
   "metadata": {},
   "outputs": [
    {
     "name": "stdout",
     "output_type": "stream",
     "text": [
      "The arithmetic sum is 5050\n"
     ]
    }
   ],
   "source": [
    "sum_term = 1\n",
    "sum = 0\n",
    "\n",
    "while sum_term <= 100:\n",
    "    sum += sum_term\n",
    "    sum_term += 1\n",
    "\n",
    "print(f\"The arithmetic sum is {sum}\")"
   ]
  },
  {
   "cell_type": "markdown",
   "metadata": {},
   "source": [
    "## B"
   ]
  },
  {
   "cell_type": "code",
   "execution_count": 23,
   "metadata": {},
   "outputs": [
    {
     "name": "stdout",
     "output_type": "stream",
     "text": [
      "The arithmetic sum is 2500\n"
     ]
    }
   ],
   "source": [
    "sum_term = 1\n",
    "sum = 0\n",
    "\n",
    "while sum_term <=99:\n",
    "    sum += sum_term\n",
    "    sum_term += 2\n",
    "\n",
    "print(f\"The arithmetic sum is {sum}\")"
   ]
  },
  {
   "cell_type": "markdown",
   "metadata": {},
   "source": [
    "# 3. Guess number game"
   ]
  },
  {
   "cell_type": "markdown",
   "metadata": {},
   "source": [
    "## a"
   ]
  },
  {
   "cell_type": "code",
   "execution_count": 30,
   "metadata": {},
   "outputs": [
    {
     "name": "stdout",
     "output_type": "stream",
     "text": [
      "Wrong. Clue: The integer is between -16 and 84\n",
      "Wrong. Clue: The integer is between -6 and 74\n",
      "Wrong. Clue: The integer is between 4 and 64\n",
      "Wrong. Clue: The integer is between 14 and 54\n",
      "Wrong. Clue: The integer is between 24 and 44\n",
      "Congrats! You got it in 6 guesses\n"
     ]
    }
   ],
   "source": [
    "import random as rnd\n",
    "\n",
    "random_integer = rnd.randint(1,100)\n",
    "user_input = int(input(\"Guess an integer between 1 and 100: \"))\n",
    "guesses = 1\n",
    "clue = 50\n",
    "\n",
    "while random_integer != user_input:\n",
    "    print(f\"Wrong. Clue: The integer is between {random_integer - clue} and {random_integer + clue}\")\n",
    "    clue -= 10\n",
    "    guesses += 1\n",
    "    user_input = int(input(\"Guess an integer between 1 and 100: \"))\n",
    "\n",
    "print(f\"Congrats! You got it in {guesses} guesses\")"
   ]
  },
  {
   "cell_type": "markdown",
   "metadata": {},
   "source": [
    "## b"
   ]
  },
  {
   "cell_type": "code",
   "execution_count": 81,
   "metadata": {},
   "outputs": [
    {
     "name": "stdout",
     "output_type": "stream",
     "text": [
      "52\n"
     ]
    }
   ],
   "source": [
    "import random as rnd\n",
    "\n",
    "random_integer = rnd.randint(1,100)\n",
    "guess = 100\n",
    "guesses = 1\n",
    "\n",
    "while guess != random_integer:\n",
    "    guess -= 1\n",
    "    guesses += 1\n",
    "\n",
    "print(guesses)"
   ]
  },
  {
   "cell_type": "markdown",
   "metadata": {},
   "source": [
    "# 4. Multiplication game"
   ]
  },
  {
   "cell_type": "markdown",
   "metadata": {},
   "source": [
    "## a"
   ]
  },
  {
   "cell_type": "code",
   "execution_count": 87,
   "metadata": {},
   "outputs": [
    {
     "name": "stdout",
     "output_type": "stream",
     "text": [
      "Congrats, the answer was 10\n",
      "Congrats, the answer was 50\n",
      "Wrong. The answer is: 50\n",
      "Your final score is: 2\n"
     ]
    }
   ],
   "source": [
    "import random as rnd\n",
    "\n",
    "score = 0\n",
    "play = \"yes\"\n",
    "\n",
    "while play == \"yes\":\n",
    "    rand_x = rnd.randint(1,10)\n",
    "    rand_y = rnd.randint(1,10)\n",
    "\n",
    "    user_calc = int(input(f\"What is {rand_x} * {rand_y}?\"))\n",
    "\n",
    "    if user_calc != (rand_x * rand_y):\n",
    "        print(f\"Wrong. The answer is: {rand_x * rand_y}\")\n",
    "    else:\n",
    "        score += 1\n",
    "        print(f\"Congrats, the answer was {user_calc}\")\n",
    "    \n",
    "    play = input(\"Do you want to play again? (yes/no)\")\n",
    "\n",
    "print(f\"Your final score was: {score}\")\n"
   ]
  },
  {
   "cell_type": "markdown",
   "metadata": {},
   "source": [
    "## b"
   ]
  },
  {
   "cell_type": "code",
   "execution_count": 98,
   "metadata": {},
   "outputs": [
    {
     "name": "stdout",
     "output_type": "stream",
     "text": [
      "Congrats, the answer was 6\n",
      "Wrong. The answer is: 340\n",
      "Congrats, the answer was 40\n",
      "Congrats, the answer was 150\n"
     ]
    },
    {
     "ename": "ValueError",
     "evalue": "invalid literal for int() with base 10: ''",
     "output_type": "error",
     "traceback": [
      "\u001b[0;31m---------------------------------------------------------------------------\u001b[0m",
      "\u001b[0;31mValueError\u001b[0m                                Traceback (most recent call last)",
      "\u001b[1;32m/Users/johsan/GitHub/python-johan-sandberg/Exercises/02-while-exercise.ipynb Cell 17\u001b[0m in \u001b[0;36m<cell line: 14>\u001b[0;34m()\u001b[0m\n\u001b[1;32m     <a href='vscode-notebook-cell:/Users/johsan/GitHub/python-johan-sandberg/Exercises/02-while-exercise.ipynb#X30sZmlsZQ%3D%3D?line=14'>15</a>\u001b[0m rand_x \u001b[39m=\u001b[39m rnd\u001b[39m.\u001b[39mrandint(\u001b[39m1\u001b[39m,\u001b[39m10\u001b[39m\u001b[39m*\u001b[39mdifficulty)\n\u001b[1;32m     <a href='vscode-notebook-cell:/Users/johsan/GitHub/python-johan-sandberg/Exercises/02-while-exercise.ipynb#X30sZmlsZQ%3D%3D?line=15'>16</a>\u001b[0m rand_y \u001b[39m=\u001b[39m rnd\u001b[39m.\u001b[39mrandint(\u001b[39m1\u001b[39m,\u001b[39m10\u001b[39m\u001b[39m*\u001b[39mdifficulty)\n\u001b[0;32m---> <a href='vscode-notebook-cell:/Users/johsan/GitHub/python-johan-sandberg/Exercises/02-while-exercise.ipynb#X30sZmlsZQ%3D%3D?line=16'>17</a>\u001b[0m user_calc \u001b[39m=\u001b[39m \u001b[39mint\u001b[39;49m(\u001b[39minput\u001b[39;49m(\u001b[39mf\u001b[39;49m\u001b[39m\"\u001b[39;49m\u001b[39mWhat is \u001b[39;49m\u001b[39m{\u001b[39;49;00mrand_x\u001b[39m}\u001b[39;49;00m\u001b[39m * \u001b[39;49m\u001b[39m{\u001b[39;49;00mrand_y\u001b[39m}\u001b[39;49;00m\u001b[39m\"\u001b[39;49m))\n\u001b[1;32m     <a href='vscode-notebook-cell:/Users/johsan/GitHub/python-johan-sandberg/Exercises/02-while-exercise.ipynb#X30sZmlsZQ%3D%3D?line=18'>19</a>\u001b[0m \u001b[39mif\u001b[39;00m user_calc \u001b[39m!=\u001b[39m (rand_x \u001b[39m*\u001b[39m rand_y):\n\u001b[1;32m     <a href='vscode-notebook-cell:/Users/johsan/GitHub/python-johan-sandberg/Exercises/02-while-exercise.ipynb#X30sZmlsZQ%3D%3D?line=19'>20</a>\u001b[0m     \u001b[39mprint\u001b[39m(\u001b[39mf\u001b[39m\u001b[39m\"\u001b[39m\u001b[39mWrong. The answer is: \u001b[39m\u001b[39m{\u001b[39;00mrand_x \u001b[39m*\u001b[39m rand_y\u001b[39m}\u001b[39;00m\u001b[39m\"\u001b[39m)\n",
      "\u001b[0;31mValueError\u001b[0m: invalid literal for int() with base 10: ''"
     ]
    }
   ],
   "source": [
    "import random as rnd\n",
    "\n",
    "difficulty = int(input('''\n",
    "Please choose your difficulty level:\n",
    "\n",
    "1. 1 - 10\n",
    "2. 1 - 20\n",
    "3. 1 - 30\n",
    "'''))\n",
    "\n",
    "score = 0\n",
    "play = \"yes\"\n",
    "\n",
    "while play == \"yes\":\n",
    "    rand_x = rnd.randint(1,10*difficulty)\n",
    "    rand_y = rnd.randint(1,10*difficulty)\n",
    "    user_calc = int(input(f\"What is {rand_x} * {rand_y}\"))\n",
    "\n",
    "    if user_calc != (rand_x * rand_y):\n",
    "        print(f\"Wrong. The answer is: {rand_x * rand_y}\")\n",
    "    else:\n",
    "        score += 1\n",
    "        print(f\"Congrats, the answer was {user_calc}\")\n",
    "    \n",
    "    play = input(\"Do you want to play again? (yes/no)\")\n",
    "\n",
    "print(f\"Your final score was: {score}\")"
   ]
  },
  {
   "cell_type": "markdown",
   "metadata": {},
   "source": [
    "# Check convergence"
   ]
  },
  {
   "cell_type": "markdown",
   "metadata": {},
   "source": [
    "## a"
   ]
  },
  {
   "cell_type": "code",
   "execution_count": 222,
   "metadata": {},
   "outputs": [
    {
     "name": "stdout",
     "output_type": "stream",
     "text": [
      "sum=1.999999. It took 21 iterations to get within 1e-06 of 2\n"
     ]
    }
   ],
   "source": [
    "n, sum = 0, 0\n",
    "diff = 0.000001\n",
    "\n",
    "while abs(2 - sum) > diff:\n",
    "    sum += 2**(-n)\n",
    "    n += 1\n",
    "\n",
    "print(f\"{sum=:.6f}. It took {n} iterations to get within {diff} of 2\")"
   ]
  },
  {
   "cell_type": "markdown",
   "metadata": {},
   "source": [
    "## b"
   ]
  },
  {
   "cell_type": "code",
   "execution_count": 220,
   "metadata": {},
   "outputs": [
    {
     "name": "stdout",
     "output_type": "stream",
     "text": [
      "0.78440. It took 250 iterations to get within 0.001 of pi/4\n"
     ]
    }
   ],
   "source": [
    "import math\n",
    "\n",
    "n, sum = 1, 1\n",
    "diff = 0.001\n",
    "answer = math.pi/4\n",
    "\n",
    "while abs(answer - sum) > diff:\n",
    "    sum += (-1)**n / (2*n + 1)\n",
    "    n += 1\n",
    "\n",
    "print(f\"{sum:.5f}. It took {n} iterations to get within {diff} of pi/4\")"
   ]
  }
 ],
 "metadata": {
  "kernelspec": {
   "display_name": "Python 3.9.13 ('python-johan-sandberg-x4O3kqDM')",
   "language": "python",
   "name": "python3"
  },
  "language_info": {
   "codemirror_mode": {
    "name": "ipython",
    "version": 3
   },
   "file_extension": ".py",
   "mimetype": "text/x-python",
   "name": "python",
   "nbconvert_exporter": "python",
   "pygments_lexer": "ipython3",
   "version": "3.9.13"
  },
  "orig_nbformat": 4,
  "vscode": {
   "interpreter": {
    "hash": "da9dd422ea5b832177d9cab6ed09096dc8afb770f75d972c39385656daeae52e"
   }
  }
 },
 "nbformat": 4,
 "nbformat_minor": 2
}
