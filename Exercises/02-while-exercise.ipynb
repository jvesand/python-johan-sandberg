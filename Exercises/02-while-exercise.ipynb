{
 "cells": [
  {
   "cell_type": "markdown",
   "metadata": {},
   "source": [
    "# 1. Count numbers"
   ]
  },
  {
   "cell_type": "code",
   "execution_count": 21,
   "metadata": {},
   "outputs": [
    {
     "name": "stdout",
     "output_type": "stream",
     "text": [
      "Here is the list of numbers: [-10, -9, -8, -7, -6, -5, -4, -3, -2, -1, 0, 1, 2, 3, 4, 5, 6, 7, 8, 9, 10]\n"
     ]
    }
   ],
   "source": [
    "i = -10\n",
    "i_list = []\n",
    "\n",
    "while i <= 10:\n",
    "    i_list.append(i)\n",
    "    i += 1\n",
    "    \n",
    "print(f\"Here is the list of numbers: {i_list}\")"
   ]
  },
  {
   "cell_type": "markdown",
   "metadata": {},
   "source": [
    "# 2. Arithmetic sum"
   ]
  },
  {
   "cell_type": "markdown",
   "metadata": {},
   "source": [
    "## A"
   ]
  },
  {
   "cell_type": "code",
   "execution_count": 24,
   "metadata": {},
   "outputs": [
    {
     "name": "stdout",
     "output_type": "stream",
     "text": [
      "The arithmetic sum is 5050\n"
     ]
    }
   ],
   "source": [
    "sum_term = 1\n",
    "sum = 0\n",
    "\n",
    "while sum_term <= 100:\n",
    "    sum += sum_term\n",
    "    sum_term += 1\n",
    "\n",
    "print(f\"The arithmetic sum is {sum}\")"
   ]
  },
  {
   "cell_type": "markdown",
   "metadata": {},
   "source": [
    "## B"
   ]
  },
  {
   "cell_type": "code",
   "execution_count": 23,
   "metadata": {},
   "outputs": [
    {
     "name": "stdout",
     "output_type": "stream",
     "text": [
      "The arithmetic sum is 2500\n"
     ]
    }
   ],
   "source": [
    "sum_term = 1\n",
    "sum = 0\n",
    "\n",
    "while sum_term <=99:\n",
    "    sum += sum_term\n",
    "    sum_term += 2\n",
    "\n",
    "print(f\"The arithmetic sum is {sum}\")"
   ]
  },
  {
   "cell_type": "markdown",
   "metadata": {},
   "source": [
    "# 3. Guess number game"
   ]
  },
  {
   "cell_type": "code",
   "execution_count": null,
   "metadata": {},
   "outputs": [],
   "source": []
  }
 ],
 "metadata": {
  "kernelspec": {
   "display_name": "Python 3.9.13 ('python-johan-sandberg-x4O3kqDM')",
   "language": "python",
   "name": "python3"
  },
  "language_info": {
   "codemirror_mode": {
    "name": "ipython",
    "version": 3
   },
   "file_extension": ".py",
   "mimetype": "text/x-python",
   "name": "python",
   "nbconvert_exporter": "python",
   "pygments_lexer": "ipython3",
   "version": "3.9.13"
  },
  "orig_nbformat": 4,
  "vscode": {
   "interpreter": {
    "hash": "da9dd422ea5b832177d9cab6ed09096dc8afb770f75d972c39385656daeae52e"
   }
  }
 },
 "nbformat": 4,
 "nbformat_minor": 2
}
