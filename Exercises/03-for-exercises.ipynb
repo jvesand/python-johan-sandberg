{
 "cells": [
  {
   "cell_type": "markdown",
   "metadata": {},
   "source": [
    "# 1. Count numbers"
   ]
  },
  {
   "cell_type": "markdown",
   "metadata": {},
   "source": [
    "## a"
   ]
  },
  {
   "cell_type": "code",
   "execution_count": 12,
   "metadata": {},
   "outputs": [
    {
     "name": "stdout",
     "output_type": "stream",
     "text": [
      "-10 -9 -8 -7 -6 -5 -4 -3 -2 -1 0 1 2 3 4 5 6 7 8 9 10 "
     ]
    }
   ],
   "source": [
    "for i in range(-10,11):\n",
    "    print(i, end =\" \")"
   ]
  },
  {
   "cell_type": "markdown",
   "metadata": {},
   "source": [
    "## b"
   ]
  },
  {
   "cell_type": "code",
   "execution_count": 13,
   "metadata": {},
   "outputs": [
    {
     "name": "stdout",
     "output_type": "stream",
     "text": [
      "-10 -8 -6 -4 -2 0 2 4 6 8 10 "
     ]
    }
   ],
   "source": [
    "for i in range(-10, 11, 2):\n",
    "    print(i, end=\" \")"
   ]
  },
  {
   "cell_type": "markdown",
   "metadata": {},
   "source": [
    "# 2. Arithmetic sum"
   ]
  },
  {
   "cell_type": "code",
   "execution_count": 16,
   "metadata": {},
   "outputs": [
    {
     "name": "stdout",
     "output_type": "stream",
     "text": [
      "The sum is 5050\n"
     ]
    }
   ],
   "source": [
    "sum = 0\n",
    "\n",
    "for i in range(1,101):\n",
    "    sum += i\n",
    "\n",
    "print(f\"The sum is {sum}\")"
   ]
  },
  {
   "cell_type": "code",
   "execution_count": 18,
   "metadata": {},
   "outputs": [
    {
     "name": "stdout",
     "output_type": "stream",
     "text": [
      "The sum is 2500\n"
     ]
    }
   ],
   "source": [
    "sum = 0\n",
    "\n",
    "for i in range(1,100, 2):\n",
    "    sum += i\n",
    "\n",
    "print(f\"The sum is {sum}\")"
   ]
  },
  {
   "cell_type": "markdown",
   "metadata": {},
   "source": [
    "# 3. Multiplication table"
   ]
  },
  {
   "cell_type": "code",
   "execution_count": 19,
   "metadata": {},
   "outputs": [
    {
     "name": "stdout",
     "output_type": "stream",
     "text": [
      "0 6 12 18 24 30 36 42 48 54 60 "
     ]
    }
   ],
   "source": [
    "for i in range(0,11):\n",
    "    print(6*i, end=\" \")"
   ]
  },
  {
   "cell_type": "code",
   "execution_count": 21,
   "metadata": {},
   "outputs": [
    {
     "name": "stdout",
     "output_type": "stream",
     "text": [
      "100 110 120 130 140 150 160 170 180 190 200 210 220 230 240 250 260 270 280 290 300 310 320 330 340 350 360 370 380 390 400 410 420 430 440 450 460 470 480 490 500 510 520 530 540 550 560 570 580 590 600 610 620 630 640 650 660 670 680 690 700 710 720 730 740 750 760 770 780 790 800 810 820 830 840 850 860 870 880 890 900 910 920 930 940 950 960 970 980 990 1000 "
     ]
    }
   ],
   "source": [
    "table = int(input(\"Which multiplication table? (number)\"))\n",
    "start = int(input(\"Starting with what number?\"))\n",
    "end = int(input(\"Ending with what number?\"))\n",
    "\n",
    "for i in range(start, end+1):\n",
    "    print(table*i, end = \" \")"
   ]
  },
  {
   "cell_type": "code",
   "execution_count": 23,
   "metadata": {},
   "outputs": [
    {
     "name": "stdout",
     "output_type": "stream",
     "text": [
      "0 0 0 0 0 0 0 0 0 0 0 \n",
      "0 1 2 3 4 5 6 7 8 9 10 \n",
      "0 2 4 6 8 10 12 14 16 18 20 \n",
      "0 3 6 9 12 15 18 21 24 27 30 \n",
      "0 4 8 12 16 20 24 28 32 36 40 \n",
      "0 5 10 15 20 25 30 35 40 45 50 \n",
      "0 6 12 18 24 30 36 42 48 54 60 \n",
      "0 7 14 21 28 35 42 49 56 63 70 \n",
      "0 8 16 24 32 40 48 56 64 72 80 \n",
      "0 9 18 27 36 45 54 63 72 81 90 \n",
      "0 10 20 30 40 50 60 70 80 90 100 \n"
     ]
    }
   ],
   "source": [
    "for i in range(0, 11):\n",
    "    for j in range(0, 11):\n",
    "        print(i*j, end = \" \")\n",
    "    print()"
   ]
  },
  {
   "cell_type": "markdown",
   "metadata": {},
   "source": [
    "# 4. Faculty"
   ]
  },
  {
   "cell_type": "code",
   "execution_count": 27,
   "metadata": {},
   "outputs": [
    {
     "name": "stdout",
     "output_type": "stream",
     "text": [
      "The 19 faculty is 121645100408832000\n"
     ]
    }
   ],
   "source": [
    "n_input = int(input(\"Which faculty? (number\"))\n",
    "faculty = 1\n",
    "\n",
    "for i in range(1, n_input + 1):\n",
    "    faculty *= i\n",
    "\n",
    "print(f\"The {n_input} faculty is {faculty}\")"
   ]
  },
  {
   "cell_type": "markdown",
   "metadata": {},
   "source": [
    "# 5. Guess the number"
   ]
  },
  {
   "cell_type": "code",
   "execution_count": 110,
   "metadata": {},
   "outputs": [
    {
     "name": "stdout",
     "output_type": "stream",
     "text": [
      "6112"
     ]
    },
    {
     "data": {
      "text/plain": [
       "[6, 1, 1, 2]"
      ]
     },
     "execution_count": 110,
     "metadata": {},
     "output_type": "execute_result"
    }
   ],
   "source": [
    "import random as rnd\n",
    "\n",
    "four_digit_list = [rnd.randint(1,9) for _ in range(0,4)]\n",
    "\n",
    "for i in four_digit_list:\n",
    "    for j in range(1,10):\n",
    "        if i == j:\n",
    "            print(i, end=\"\")\n",
    "\n",
    "four_digit_list"
   ]
  },
  {
   "cell_type": "markdown",
   "metadata": {},
   "source": [
    "# 6. Rice on chessboard"
   ]
  },
  {
   "cell_type": "code",
   "execution_count": 155,
   "metadata": {},
   "outputs": [
    {
     "name": "stdout",
     "output_type": "stream",
     "text": [
      "18446744073709551615 number of grains\n"
     ]
    }
   ],
   "source": [
    "# chess board 8x8\n",
    "\n",
    "grains = [1]\n",
    "sum = 0\n",
    "\n",
    "for i in range(0, 8*8):\n",
    "    grains.append(grains[i]*2)\n",
    "\n",
    "for i in range(len(grains) - 1):\n",
    "    # print(i)\n",
    "    # print(grains[i])\n",
    "    sum += grains[i]\n",
    "\n",
    "print(f\"{sum} number of grains\")\n"
   ]
  },
  {
   "cell_type": "code",
   "execution_count": 156,
   "metadata": {},
   "outputs": [
    {
     "name": "stdout",
     "output_type": "stream",
     "text": [
      "(0, 1)\n",
      "(1, 2)\n",
      "(2, 4)\n",
      "(3, 8)\n",
      "(4, 16)\n",
      "(5, 32)\n",
      "(6, 64)\n",
      "(7, 128)\n",
      "(8, 256)\n",
      "(9, 512)\n",
      "(10, 1024)\n",
      "(11, 2048)\n",
      "(12, 4096)\n",
      "(13, 8192)\n",
      "(14, 16384)\n",
      "(15, 32768)\n",
      "(16, 65536)\n",
      "(17, 131072)\n",
      "(18, 262144)\n",
      "(19, 524288)\n",
      "(20, 1048576)\n",
      "(21, 2097152)\n",
      "(22, 4194304)\n",
      "(23, 8388608)\n",
      "(24, 16777216)\n",
      "(25, 33554432)\n",
      "(26, 67108864)\n",
      "(27, 134217728)\n",
      "(28, 268435456)\n",
      "(29, 536870912)\n",
      "(30, 1073741824)\n",
      "(31, 2147483648)\n",
      "(32, 4294967296)\n",
      "(33, 8589934592)\n",
      "(34, 17179869184)\n",
      "(35, 34359738368)\n",
      "(36, 68719476736)\n",
      "(37, 137438953472)\n",
      "(38, 274877906944)\n",
      "(39, 549755813888)\n",
      "(40, 1099511627776)\n",
      "(41, 2199023255552)\n",
      "(42, 4398046511104)\n",
      "(43, 8796093022208)\n",
      "(44, 17592186044416)\n",
      "(45, 35184372088832)\n",
      "(46, 70368744177664)\n",
      "(47, 140737488355328)\n",
      "(48, 281474976710656)\n",
      "(49, 562949953421312)\n",
      "(50, 1125899906842624)\n",
      "(51, 2251799813685248)\n",
      "(52, 4503599627370496)\n",
      "(53, 9007199254740992)\n",
      "(54, 18014398509481984)\n",
      "(55, 36028797018963968)\n",
      "(56, 72057594037927936)\n",
      "(57, 144115188075855872)\n",
      "(58, 288230376151711744)\n",
      "(59, 576460752303423488)\n",
      "(60, 1152921504606846976)\n",
      "(61, 2305843009213693952)\n",
      "(62, 4611686018427387904)\n",
      "(63, 9223372036854775808)\n",
      "(64, 18446744073709551616)\n"
     ]
    }
   ],
   "source": [
    "for i in enumerate(grains):\n",
    "    print(i)"
   ]
  }
 ],
 "metadata": {
  "kernelspec": {
   "display_name": "Python 3.9.13 ('python-johan-sandberg-x4O3kqDM')",
   "language": "python",
   "name": "python3"
  },
  "language_info": {
   "codemirror_mode": {
    "name": "ipython",
    "version": 3
   },
   "file_extension": ".py",
   "mimetype": "text/x-python",
   "name": "python",
   "nbconvert_exporter": "python",
   "pygments_lexer": "ipython3",
   "version": "3.9.13"
  },
  "orig_nbformat": 4,
  "vscode": {
   "interpreter": {
    "hash": "da9dd422ea5b832177d9cab6ed09096dc8afb770f75d972c39385656daeae52e"
   }
  }
 },
 "nbformat": 4,
 "nbformat_minor": 2
}
