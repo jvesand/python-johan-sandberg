{
 "cells": [
  {
   "cell_type": "markdown",
   "metadata": {},
   "source": [
    "# 1. Counting letters"
   ]
  },
  {
   "cell_type": "code",
   "execution_count": 24,
   "metadata": {},
   "outputs": [
    {
     "name": "stdout",
     "output_type": "stream",
     "text": [
      "There are 3 lowercase letters, and 1 uppercase letters in True\n"
     ]
    }
   ],
   "source": [
    "a_word = input(\"Input a word: \")\n",
    "\n",
    "count_lower = len([i for i in a_word if i.islower()])\n",
    "\n",
    "print(f\"There are {count_lower} lowercase letters, and {len(a_word) - count_lower}\" + \\\n",
    "    f\" uppercase letters in {a_word}\")"
   ]
  },
  {
   "cell_type": "markdown",
   "metadata": {},
   "source": [
    "# 2. Counting words"
   ]
  },
  {
   "cell_type": "code",
   "execution_count": 37,
   "metadata": {},
   "outputs": [
    {
     "name": "stdout",
     "output_type": "stream",
     "text": [
      "There are 17 words\n"
     ]
    }
   ],
   "source": [
    "sentence = \"A picture says more than a thousand words, a matematical \" + \\\n",
    "    \"formula says more than a thousand pictures\"\n",
    "\n",
    "length_ = len(sentence.split(\" \"))\n",
    "\n",
    "print(f\"There are {length_} words\")\n"
   ]
  },
  {
   "cell_type": "markdown",
   "metadata": {},
   "source": [
    "# 3. Palindrome"
   ]
  },
  {
   "cell_type": "code",
   "execution_count": 46,
   "metadata": {},
   "outputs": [
    {
     "name": "stdout",
     "output_type": "stream",
     "text": [
      "ANNA is a palindrome\n"
     ]
    }
   ],
   "source": [
    "a_word = input(\"Input a sequence of characters: \")\n",
    "\n",
    "if a_word.upper() == a_word.upper()[::-1]:\n",
    "    print(f\"{a_word.upper()} is a palindrome\")\n",
    "else:\n",
    "    print(f\"{a_word.upper()} is not a palindrome\")"
   ]
  },
  {
   "cell_type": "markdown",
   "metadata": {},
   "source": [
    "# 4. Vowels"
   ]
  },
  {
   "cell_type": "code",
   "execution_count": 9,
   "metadata": {},
   "outputs": [
    {
     "data": {
      "text/plain": [
       "22"
      ]
     },
     "execution_count": 9,
     "metadata": {},
     "output_type": "execute_result"
    }
   ],
   "source": [
    "import re\n",
    "\n",
    "sentence = \"Pure mathematics is, in its way, the poetry of logical ideas\"\n",
    "\n",
    "len(re.findall(\"[aeiouyåä]\", sentence))"
   ]
  },
  {
   "cell_type": "markdown",
   "metadata": {},
   "source": [
    "# 5. Encryption"
   ]
  },
  {
   "cell_type": "code",
   "execution_count": 129,
   "metadata": {},
   "outputs": [
    {
     "name": "stdout",
     "output_type": "stream",
     "text": [
      "from uftua to testö\n"
     ]
    }
   ],
   "source": [
    "import re\n",
    "\n",
    "a_word = input(\"Input a word: \")\n",
    "user_choice = int(input(\"Do you wish to encrypt or decrypt? (1/-1)\"))\n",
    "\n",
    "alphabet = [chr(i) for i in range(ord(\"a\"), ord(\"a\") + 26)]\n",
    "alphabet += [\"å\", \"ä\", \"ö\", \"a\", \"ö\"]\n",
    "\n",
    "b_word = \"\".join([alphabet[alphabet.index(i)+user_choice] for i in a_word])\n",
    "\n",
    "print(f\"From {a_word} to {b_word}\")"
   ]
  }
 ],
 "metadata": {
  "kernelspec": {
   "display_name": "Python 3.9.13 ('python-johan-sandberg-x4O3kqDM')",
   "language": "python",
   "name": "python3"
  },
  "language_info": {
   "codemirror_mode": {
    "name": "ipython",
    "version": 3
   },
   "file_extension": ".py",
   "mimetype": "text/x-python",
   "name": "python",
   "nbconvert_exporter": "python",
   "pygments_lexer": "ipython3",
   "version": "3.9.13"
  },
  "orig_nbformat": 4,
  "vscode": {
   "interpreter": {
    "hash": "da9dd422ea5b832177d9cab6ed09096dc8afb770f75d972c39385656daeae52e"
   }
  }
 },
 "nbformat": 4,
 "nbformat_minor": 2
}
