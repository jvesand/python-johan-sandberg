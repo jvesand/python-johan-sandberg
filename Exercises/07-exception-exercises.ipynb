{
 "cells": [
  {
   "cell_type": "markdown",
   "metadata": {},
   "source": [
    "# 1. Find errors"
   ]
  },
  {
   "cell_type": "code",
   "execution_count": 4,
   "metadata": {},
   "outputs": [
    {
     "name": "stdout",
     "output_type": "stream",
     "text": [
      "0.7071067811865476\n"
     ]
    }
   ],
   "source": [
    "# syntax error impor\n",
    "import numpy as np\n",
    "\n",
    "# logical error, need to square\n",
    "def distance(x,y):\n",
    "    return np.sqrt(x**2+y**2)\n",
    "\n",
    "# missing y argument\n",
    "print(distance(0.5, 0.5))"
   ]
  },
  {
   "cell_type": "markdown",
   "metadata": {},
   "source": [
    "# 2. Find errors"
   ]
  },
  {
   "cell_type": "code",
   "execution_count": 10,
   "metadata": {},
   "outputs": [
    {
     "name": "stdout",
     "output_type": "stream",
     "text": [
      "231 is not four-digit\n",
      "3124 is four-digit\n",
      "-4124 is four-digit\n",
      "-1000 is four-digit\n",
      "-999 is not four-digit\n",
      "1001 is four-digit\n",
      "10000 is not four-digit\n",
      "-10000 is not four-digit\n",
      "999 is not four-digit\n"
     ]
    }
   ],
   "source": [
    "def is_fourdigit(number):\n",
    "    # syntax errors + logical errors\n",
    "    if 1 <= abs(number/1000) < 10:\n",
    "        return True\n",
    "    # syntax error\n",
    "    else:\n",
    "        return False\n",
    "\n",
    "# test program\n",
    "test_numbers = [231, 3124, -4124, -1000,-999, 1001, 10000, -10000, 999]\n",
    "\n",
    "for number in test_numbers:\n",
    "    if is_fourdigit(number):\n",
    "        print(f\"{number} is four-digit\")\n",
    "    else:\n",
    "        print(f\"{number} is not four-digit\")"
   ]
  },
  {
   "cell_type": "markdown",
   "metadata": {},
   "source": [
    "# 3. Tram"
   ]
  },
  {
   "cell_type": "code",
   "execution_count": 4,
   "metadata": {},
   "outputs": [
    {
     "name": "stdout",
     "output_type": "stream",
     "text": [
      "Getting a card will save you 500.0 SEK per month\n"
     ]
    }
   ],
   "source": [
    "# dangerous code, error handling\n",
    "while True:\n",
    "\n",
    "    tram_rides = input(\"Number of times you ride the tram in a month: \")\n",
    "    cost_ticket = input(\"How much for 1 ticket? (kr) \")\n",
    "    cost_card = input(\"How much for monthly subscription? (kr) \")\n",
    "\n",
    "    try:\n",
    "        tram_rides, cost_ticket, cost_card = float(tram_rides), float(cost_ticket), float(cost_card)\n",
    "        if any(i < 0 for i in [tram_rides, cost_ticket, cost_card]):\n",
    "            raise TypeError(f\"Costs or number of rides can not be negative\")\n",
    "        break\n",
    "    except ValueError as err:\n",
    "        print(f\"Please use numbers, not characters ({err})\")\n",
    "    except TypeError as err:\n",
    "        print(err)\n",
    "\n",
    "# compute costs\n",
    "cost_tickets = cost_ticket * tram_rides\n",
    "if cost_tickets > cost_card:\n",
    "    print(f\"Getting a card will save you {cost_tickets - cost_card} SEK per month\")\n",
    "elif cost_tickets == cost_card:\n",
    "    print(f\"Either is fine\")\n",
    "else:\n",
    "    print(f\"Getting a ticket per ride will save you {cost_card - cost_tickets} SEK per month\")    \n"
   ]
  }
 ],
 "metadata": {
  "kernelspec": {
   "display_name": "Python 3.9.13 ('python-johan-sandberg-x4O3kqDM')",
   "language": "python",
   "name": "python3"
  },
  "language_info": {
   "codemirror_mode": {
    "name": "ipython",
    "version": 3
   },
   "file_extension": ".py",
   "mimetype": "text/x-python",
   "name": "python",
   "nbconvert_exporter": "python",
   "pygments_lexer": "ipython3",
   "version": "3.9.13"
  },
  "orig_nbformat": 4,
  "vscode": {
   "interpreter": {
    "hash": "da9dd422ea5b832177d9cab6ed09096dc8afb770f75d972c39385656daeae52e"
   }
  }
 },
 "nbformat": 4,
 "nbformat_minor": 2
}
