{
 "cells": [
  {
   "cell_type": "markdown",
   "metadata": {},
   "source": [
    "# 1. Curriculum"
   ]
  },
  {
   "cell_type": "code",
   "execution_count": 16,
   "metadata": {},
   "outputs": [
    {
     "name": "stdout",
     "output_type": "stream",
     "text": [
      "Termin 1: 90\n",
      "Termin 2: 115\n",
      "Termin 3: 95\n",
      "Termin 4: 100\n",
      "Total points: 400\n"
     ]
    }
   ],
   "source": [
    "courses_1 = {\n",
    "    \"Intro till AI\": 5,\n",
    "    \"Programmering med Python\": 40,\n",
    "    \"Databehandling\": 25,\n",
    "    \"Linjär algebra\": 20\n",
    "}\n",
    "\n",
    "courses_2 = {\n",
    "    \"Statistiska metoder\": 30,\n",
    "    \"Maskininlärning\": 45,\n",
    "    \"Djup maskininlärning\": 40,\n",
    "}\n",
    "\n",
    "courses_3 = {\n",
    "    \"Databaser\": 25,\n",
    "    \"LIA 1\": 40,\n",
    "    \"Dataengineering och agil metodik\": 30\n",
    "}\n",
    "\n",
    "courses_4 = {\n",
    "    \"Dataengineering och agil metodik\": 15,\n",
    "    \"LIA 2\": 70,\n",
    "    \"Examensarbete\": 15\n",
    "}\n",
    "\n",
    "courses = {\n",
    "    \"Termin 1\": courses_1,\n",
    "    \"Termin 2\": courses_2,\n",
    "    \"Termin 3\": courses_3,\n",
    "    \"Termin 4\": courses_4\n",
    "}\n",
    "\n",
    "total_points = 0\n",
    "# total number of points\n",
    "for key, value in courses.items():\n",
    "    term_points = sum(value.values())\n",
    "    print(f\"{key}: {term_points}\")\n",
    "    total_points += term_points\n",
    "\n",
    "print(f\"Total points: {total_points}\")\n",
    "\n"
   ]
  },
  {
   "cell_type": "markdown",
   "metadata": {},
   "source": [
    "# 2. Dice simulation"
   ]
  },
  {
   "cell_type": "code",
   "execution_count": 21,
   "metadata": {},
   "outputs": [
    {
     "data": {
      "text/plain": [
       "{'Ones': 166357,\n",
       " 'Twos': 166942,\n",
       " 'Threes': 167164,\n",
       " 'Fours': 166371,\n",
       " 'Fives': 166737,\n",
       " 'Sixes': 166429}"
      ]
     },
     "execution_count": 21,
     "metadata": {},
     "output_type": "execute_result"
    }
   ],
   "source": [
    "import random as rnd\n",
    "\n",
    "dice_list = [rnd.randint(1,6) for _ in range(10**6)]\n",
    "dice_dict = {\n",
    "    \"Ones\": len(list(filter(lambda i: i == 1, dice_list))),\n",
    "    \"Twos\": len(list(filter(lambda i: i == 2, dice_list))),\n",
    "    \"Threes\": len(list(filter(lambda i: i == 3, dice_list))),\n",
    "    \"Fours\": len(list(filter(lambda i: i == 4, dice_list))),\n",
    "    \"Fives\": len(list(filter(lambda i: i == 5, dice_list))),\n",
    "    \"Sixes\": len(list(filter(lambda i: i == 6, dice_list))),\n",
    "}\n",
    "\n",
    "dice_dict"
   ]
  },
  {
   "cell_type": "markdown",
   "metadata": {},
   "source": [
    "# 3. Pokemon list"
   ]
  },
  {
   "cell_type": "code",
   "execution_count": 31,
   "metadata": {},
   "outputs": [
    {
     "name": "stdout",
     "output_type": "stream",
     "text": [
      "Spöke/Gift, 94\n",
      "Elektrisk, 25\n"
     ]
    }
   ],
   "source": [
    "pokedex = {}\n",
    "\n",
    "with open(\"../Data/pokemon_list.txt\", 'r') as f_pokemon:\n",
    "    # i want type \"key: value\" \"name: type, index\"\n",
    "\n",
    "    for line in f_pokemon.readlines():\n",
    "        line = line.strip().split(\" \")\n",
    "        # append is .update\n",
    "        pokedex.update({line[1]: line[2] + \", \" + line[0]})\n",
    "\n",
    "print(pokedex[\"Gengar\"])\n",
    "print(pokedex[\"Pikachu\"])"
   ]
  },
  {
   "cell_type": "markdown",
   "metadata": {},
   "source": [
    "# 4. Morse code"
   ]
  },
  {
   "cell_type": "code",
   "execution_count": 71,
   "metadata": {},
   "outputs": [
    {
     "name": "stdout",
     "output_type": "stream",
     "text": [
      "...---...\n",
      ".------.-.------.\n"
     ]
    }
   ],
   "source": [
    "morse_dict = {}\n",
    "\n",
    "with open(\"../Data/morse.txt\", 'r') as f_morse:\n",
    "    # print(f_morse.read())\n",
    "    for line in f_morse.readlines():\n",
    "        line = line.strip().split(\": \")\n",
    "        morse_dict.update({line[0]: line[1]})\n",
    "\n",
    "def morse_conversion(message):\n",
    "    converted = \"\"\n",
    "    for i in message:\n",
    "        # printing directly here resulted in None when printing function outside\n",
    "        # since return was None\n",
    "        converted += morse_dict[i.upper()]\n",
    "    return converted\n",
    "\n",
    "print(morse_conversion(\"SOS\"))\n",
    "print(morse_conversion(\"POKEMON\"))\n"
   ]
  }
 ],
 "metadata": {
  "kernelspec": {
   "display_name": "Python 3.9.13 ('python-johan-sandberg-x4O3kqDM')",
   "language": "python",
   "name": "python3"
  },
  "language_info": {
   "codemirror_mode": {
    "name": "ipython",
    "version": 3
   },
   "file_extension": ".py",
   "mimetype": "text/x-python",
   "name": "python",
   "nbconvert_exporter": "python",
   "pygments_lexer": "ipython3",
   "version": "3.9.13"
  },
  "orig_nbformat": 4,
  "vscode": {
   "interpreter": {
    "hash": "da9dd422ea5b832177d9cab6ed09096dc8afb770f75d972c39385656daeae52e"
   }
  }
 },
 "nbformat": 4,
 "nbformat_minor": 2
}
