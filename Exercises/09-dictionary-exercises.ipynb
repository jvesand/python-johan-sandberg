{
 "cells": [
  {
   "cell_type": "markdown",
   "metadata": {},
   "source": [
    "# 1. Curriculum"
   ]
  },
  {
   "cell_type": "code",
   "execution_count": 18,
   "metadata": {},
   "outputs": [
    {
     "name": "stdout",
     "output_type": "stream",
     "text": [
      "{'Intro till AI': 5, 'Programmering med Python': 40, 'Databehandling': 25, 'Linjär algebra': 20}\n"
     ]
    },
    {
     "ename": "TypeError",
     "evalue": "'int' object is not callable",
     "output_type": "error",
     "traceback": [
      "\u001b[0;31m---------------------------------------------------------------------------\u001b[0m",
      "\u001b[0;31mTypeError\u001b[0m                                 Traceback (most recent call last)",
      "\u001b[1;32m/Users/johsan/GitHub/python-johan-sandberg/Exercises/09-dictionary-exercises.ipynb Cell 2\u001b[0m in \u001b[0;36m<cell line: 34>\u001b[0;34m()\u001b[0m\n\u001b[1;32m     <a href='vscode-notebook-cell:/Users/johsan/GitHub/python-johan-sandberg/Exercises/09-dictionary-exercises.ipynb#W2sZmlsZQ%3D%3D?line=33'>34</a>\u001b[0m \u001b[39mfor\u001b[39;00m key, value \u001b[39min\u001b[39;00m courses\u001b[39m.\u001b[39mitems():\n\u001b[1;32m     <a href='vscode-notebook-cell:/Users/johsan/GitHub/python-johan-sandberg/Exercises/09-dictionary-exercises.ipynb#W2sZmlsZQ%3D%3D?line=34'>35</a>\u001b[0m     \u001b[39mprint\u001b[39m(value)\n\u001b[0;32m---> <a href='vscode-notebook-cell:/Users/johsan/GitHub/python-johan-sandberg/Exercises/09-dictionary-exercises.ipynb#W2sZmlsZQ%3D%3D?line=35'>36</a>\u001b[0m     \u001b[39mprint\u001b[39m(\u001b[39msum\u001b[39;49m(value\u001b[39m.\u001b[39;49mvalues()))\n",
      "\u001b[0;31mTypeError\u001b[0m: 'int' object is not callable"
     ]
    }
   ],
   "source": [
    "courses_1 = {\n",
    "    \"Intro till AI\": 5,\n",
    "    \"Programmering med Python\": 40,\n",
    "    \"Databehandling\": 25,\n",
    "    \"Linjär algebra\": 20\n",
    "}\n",
    "\n",
    "courses_2 = {\n",
    "    \"Statistiska metoder\": 30,\n",
    "    \"Maskininlärning\": 45,\n",
    "    \"Djup maskininlärning\": 40,\n",
    "}\n",
    "\n",
    "courses_3 = {\n",
    "    \"Databaser\": 25,\n",
    "    \"LIA 1\": 40,\n",
    "    \"Dataengineering och agil metodik\": 30\n",
    "}\n",
    "\n",
    "courses_4 = {\n",
    "    \"Dataengineering och agil metodik\": 15,\n",
    "    \"LIA 2\": 70,\n",
    "    \"Examensarbete\": 15\n",
    "}\n",
    "\n",
    "courses = {\n",
    "    \"Termin 1\": courses_1,\n",
    "    \"Termin 2\": courses_2,\n",
    "    \"Termin 3\": courses_3,\n",
    "    \"Termin 4\": courses_4\n",
    "}\n",
    "\n",
    "# total number of points\n",
    "for key, value in courses.items():\n",
    "    print(value)\n",
    "    print(sum(value.values()))"
   ]
  }
 ],
 "metadata": {
  "kernelspec": {
   "display_name": "Python 3.9.13 ('python-johan-sandberg-x4O3kqDM')",
   "language": "python",
   "name": "python3"
  },
  "language_info": {
   "codemirror_mode": {
    "name": "ipython",
    "version": 3
   },
   "file_extension": ".py",
   "mimetype": "text/x-python",
   "name": "python",
   "nbconvert_exporter": "python",
   "pygments_lexer": "ipython3",
   "version": "3.9.13"
  },
  "orig_nbformat": 4,
  "vscode": {
   "interpreter": {
    "hash": "da9dd422ea5b832177d9cab6ed09096dc8afb770f75d972c39385656daeae52e"
   }
  }
 },
 "nbformat": 4,
 "nbformat_minor": 2
}
