{
 "cells": [
  {
   "cell_type": "markdown",
   "metadata": {},
   "source": [
    "# 1. Unit conversion"
   ]
  },
  {
   "cell_type": "code",
   "execution_count": 73,
   "metadata": {},
   "outputs": [
    {
     "name": "stdout",
     "output_type": "stream",
     "text": [
      "5 inches is 12.7 cm\n",
      "None\n",
      "6 feet is equal to 1.7999999999999998 meters\n",
      "None\n",
      "The value has to be a number\n"
     ]
    },
    {
     "ename": "NameError",
     "evalue": "name 'units1' is not defined",
     "output_type": "error",
     "traceback": [
      "\u001b[0;31m---------------------------------------------------------------------------\u001b[0m",
      "\u001b[0;31mNameError\u001b[0m                                 Traceback (most recent call last)",
      "\u001b[1;32m/Users/johsan/GitHub/python-johan-sandberg/Exercises/11-oop-basic-exericses.ipynb Cell 2\u001b[0m in \u001b[0;36m<cell line: 39>\u001b[0;34m()\u001b[0m\n\u001b[1;32m     <a href='vscode-notebook-cell:/Users/johsan/GitHub/python-johan-sandberg/Exercises/11-oop-basic-exericses.ipynb#W2sZmlsZQ%3D%3D?line=35'>36</a>\u001b[0m \u001b[39mexcept\u001b[39;00m \u001b[39mValueError\u001b[39;00m \u001b[39mas\u001b[39;00m err:\n\u001b[1;32m     <a href='vscode-notebook-cell:/Users/johsan/GitHub/python-johan-sandberg/Exercises/11-oop-basic-exericses.ipynb#W2sZmlsZQ%3D%3D?line=36'>37</a>\u001b[0m     \u001b[39mprint\u001b[39m(err)\n\u001b[0;32m---> <a href='vscode-notebook-cell:/Users/johsan/GitHub/python-johan-sandberg/Exercises/11-oop-basic-exericses.ipynb#W2sZmlsZQ%3D%3D?line=38'>39</a>\u001b[0m units1\u001b[39m.\u001b[39minch_to_cm()\n\u001b[1;32m     <a href='vscode-notebook-cell:/Users/johsan/GitHub/python-johan-sandberg/Exercises/11-oop-basic-exericses.ipynb#W2sZmlsZQ%3D%3D?line=39'>40</a>\u001b[0m \u001b[39mprint\u001b[39m(units1)\n\u001b[1;32m     <a href='vscode-notebook-cell:/Users/johsan/GitHub/python-johan-sandberg/Exercises/11-oop-basic-exericses.ipynb#W2sZmlsZQ%3D%3D?line=40'>41</a>\u001b[0m units1\u001b[39m.\u001b[39mvalue\n",
      "\u001b[0;31mNameError\u001b[0m: name 'units1' is not defined"
     ]
    }
   ],
   "source": [
    "from multiprocessing.sharedctypes import Value\n",
    "\n",
    "\n",
    "class MetricConversion:\n",
    "    \"\"\"Conversion of US units to the metric system\"\"\"\n",
    "\n",
    "    def __init__(self, value: float):\n",
    "        self.value = value\n",
    "\n",
    "    def inch_to_cm(self):\n",
    "        print(f\"{self.value} inches is {self.value * 2.54} cm\")\n",
    "        # alternative\n",
    "        # return self.value * 2.54\n",
    "\n",
    "    def foot_to_meters(self):\n",
    "        print(f\"{self.value} feet is equal to {self.value * 0.3} meters\")\n",
    "\n",
    "    @property\n",
    "    def value(self):\n",
    "        return self._value\n",
    "\n",
    "    @value.setter\n",
    "    def value(self, value):\n",
    "        if not isinstance(value, (float, int)):\n",
    "            raise ValueError(\"The value has to be a number\")\n",
    "        self._value = value\n",
    "\n",
    "    def __repr__(self):\n",
    "        return f\"MetricConversion(value='{self.value}')\"\n",
    "\n",
    "units0 = MetricConversion(5)\n",
    "print(units0.inch_to_cm())\n",
    "units0.value = 6\n",
    "print(units0.foot_to_meters())\n",
    "\n",
    "try:\n",
    "    units1 = MetricConversion(\"hello\")\n",
    "except ValueError as err:\n",
    "    print(err)\n",
    "\n",
    "units1.inch_to_cm()\n",
    "print(units1)\n",
    "units1.value"
   ]
  },
  {
   "cell_type": "markdown",
   "metadata": {},
   "source": [
    "# 2. Person"
   ]
  },
  {
   "cell_type": "code",
   "execution_count": 76,
   "metadata": {},
   "outputs": [
    {
     "ename": "AttributeError",
     "evalue": "can't set attribute",
     "output_type": "error",
     "traceback": [
      "\u001b[0;31m---------------------------------------------------------------------------\u001b[0m",
      "\u001b[0;31mAttributeError\u001b[0m                            Traceback (most recent call last)",
      "\u001b[1;32m/Users/johsan/GitHub/python-johan-sandberg/Exercises/11-oop-basic-exericses.ipynb Cell 4\u001b[0m in \u001b[0;36m<cell line: 12>\u001b[0;34m()\u001b[0m\n\u001b[1;32m      <a href='vscode-notebook-cell:/Users/johsan/GitHub/python-johan-sandberg/Exercises/11-oop-basic-exericses.ipynb#W5sZmlsZQ%3D%3D?line=7'>8</a>\u001b[0m     \u001b[39m@property\u001b[39m\n\u001b[1;32m      <a href='vscode-notebook-cell:/Users/johsan/GitHub/python-johan-sandberg/Exercises/11-oop-basic-exericses.ipynb#W5sZmlsZQ%3D%3D?line=8'>9</a>\u001b[0m     \u001b[39mdef\u001b[39;00m \u001b[39mname\u001b[39m(\u001b[39mself\u001b[39m):\n\u001b[1;32m     <a href='vscode-notebook-cell:/Users/johsan/GitHub/python-johan-sandberg/Exercises/11-oop-basic-exericses.ipynb#W5sZmlsZQ%3D%3D?line=9'>10</a>\u001b[0m         \u001b[39mreturn\u001b[39;00m \u001b[39mself\u001b[39m\u001b[39m.\u001b[39m_name\n\u001b[0;32m---> <a href='vscode-notebook-cell:/Users/johsan/GitHub/python-johan-sandberg/Exercises/11-oop-basic-exericses.ipynb#W5sZmlsZQ%3D%3D?line=11'>12</a>\u001b[0m person1 \u001b[39m=\u001b[39m Person(\u001b[39m\"\u001b[39;49m\u001b[39mJohan\u001b[39;49m\u001b[39m\"\u001b[39;49m, \u001b[39m33\u001b[39;49m, \u001b[39m\"\u001b[39;49m\u001b[39mbla\u001b[39;49m\u001b[39m\"\u001b[39;49m)\n",
      "\u001b[1;32m/Users/johsan/GitHub/python-johan-sandberg/Exercises/11-oop-basic-exericses.ipynb Cell 4\u001b[0m in \u001b[0;36mPerson.__init__\u001b[0;34m(self, name, age, email)\u001b[0m\n\u001b[1;32m      <a href='vscode-notebook-cell:/Users/johsan/GitHub/python-johan-sandberg/Exercises/11-oop-basic-exericses.ipynb#W5sZmlsZQ%3D%3D?line=2'>3</a>\u001b[0m \u001b[39mdef\u001b[39;00m \u001b[39m__init__\u001b[39m(\u001b[39mself\u001b[39m, name, age, email) \u001b[39m-\u001b[39m\u001b[39m>\u001b[39m \u001b[39mNone\u001b[39;00m:\n\u001b[0;32m----> <a href='vscode-notebook-cell:/Users/johsan/GitHub/python-johan-sandberg/Exercises/11-oop-basic-exericses.ipynb#W5sZmlsZQ%3D%3D?line=3'>4</a>\u001b[0m     \u001b[39mself\u001b[39;49m\u001b[39m.\u001b[39;49mname \u001b[39m=\u001b[39m name\n\u001b[1;32m      <a href='vscode-notebook-cell:/Users/johsan/GitHub/python-johan-sandberg/Exercises/11-oop-basic-exericses.ipynb#W5sZmlsZQ%3D%3D?line=4'>5</a>\u001b[0m     \u001b[39mself\u001b[39m\u001b[39m.\u001b[39mage \u001b[39m=\u001b[39m age\n\u001b[1;32m      <a href='vscode-notebook-cell:/Users/johsan/GitHub/python-johan-sandberg/Exercises/11-oop-basic-exericses.ipynb#W5sZmlsZQ%3D%3D?line=5'>6</a>\u001b[0m     \u001b[39mself\u001b[39m\u001b[39m.\u001b[39memail \u001b[39m=\u001b[39m email\n",
      "\u001b[0;31mAttributeError\u001b[0m: can't set attribute"
     ]
    }
   ],
   "source": [
    "class Person:\n",
    "\n",
    "    def __init__(self, name, age, email) -> None:\n",
    "        self.name = name\n",
    "        self.age = age\n",
    "        self.email = email\n",
    "\n",
    "    @property\n",
    "    def name(self):\n",
    "        return self._name\n",
    "\n",
    "person1 = Person(\"Johan\", 33, \"bla\")\n",
    "    "
   ]
  }
 ],
 "metadata": {
  "kernelspec": {
   "display_name": "Python 3.9.13 ('python-johan-sandberg-x4O3kqDM')",
   "language": "python",
   "name": "python3"
  },
  "language_info": {
   "codemirror_mode": {
    "name": "ipython",
    "version": 3
   },
   "file_extension": ".py",
   "mimetype": "text/x-python",
   "name": "python",
   "nbconvert_exporter": "python",
   "pygments_lexer": "ipython3",
   "version": "3.9.13"
  },
  "orig_nbformat": 4,
  "vscode": {
   "interpreter": {
    "hash": "da9dd422ea5b832177d9cab6ed09096dc8afb770f75d972c39385656daeae52e"
   }
  }
 },
 "nbformat": 4,
 "nbformat_minor": 2
}
