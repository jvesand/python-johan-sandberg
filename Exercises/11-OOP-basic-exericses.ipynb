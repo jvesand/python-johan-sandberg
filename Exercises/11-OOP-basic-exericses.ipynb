{
 "cells": [
  {
   "cell_type": "markdown",
   "metadata": {},
   "source": [
    "# 1. Unit conversion"
   ]
  },
  {
   "cell_type": "code",
   "execution_count": 73,
   "metadata": {},
   "outputs": [
    {
     "name": "stdout",
     "output_type": "stream",
     "text": [
      "5 inches is 12.7 cm\n",
      "None\n",
      "6 feet is equal to 1.7999999999999998 meters\n",
      "None\n",
      "The value has to be a number\n"
     ]
    },
    {
     "ename": "NameError",
     "evalue": "name 'units1' is not defined",
     "output_type": "error",
     "traceback": [
      "\u001b[0;31m---------------------------------------------------------------------------\u001b[0m",
      "\u001b[0;31mNameError\u001b[0m                                 Traceback (most recent call last)",
      "\u001b[1;32m/Users/johsan/GitHub/python-johan-sandberg/Exercises/11-oop-basic-exericses.ipynb Cell 2\u001b[0m in \u001b[0;36m<cell line: 39>\u001b[0;34m()\u001b[0m\n\u001b[1;32m     <a href='vscode-notebook-cell:/Users/johsan/GitHub/python-johan-sandberg/Exercises/11-oop-basic-exericses.ipynb#W2sZmlsZQ%3D%3D?line=35'>36</a>\u001b[0m \u001b[39mexcept\u001b[39;00m \u001b[39mValueError\u001b[39;00m \u001b[39mas\u001b[39;00m err:\n\u001b[1;32m     <a href='vscode-notebook-cell:/Users/johsan/GitHub/python-johan-sandberg/Exercises/11-oop-basic-exericses.ipynb#W2sZmlsZQ%3D%3D?line=36'>37</a>\u001b[0m     \u001b[39mprint\u001b[39m(err)\n\u001b[0;32m---> <a href='vscode-notebook-cell:/Users/johsan/GitHub/python-johan-sandberg/Exercises/11-oop-basic-exericses.ipynb#W2sZmlsZQ%3D%3D?line=38'>39</a>\u001b[0m units1\u001b[39m.\u001b[39minch_to_cm()\n\u001b[1;32m     <a href='vscode-notebook-cell:/Users/johsan/GitHub/python-johan-sandberg/Exercises/11-oop-basic-exericses.ipynb#W2sZmlsZQ%3D%3D?line=39'>40</a>\u001b[0m \u001b[39mprint\u001b[39m(units1)\n\u001b[1;32m     <a href='vscode-notebook-cell:/Users/johsan/GitHub/python-johan-sandberg/Exercises/11-oop-basic-exericses.ipynb#W2sZmlsZQ%3D%3D?line=40'>41</a>\u001b[0m units1\u001b[39m.\u001b[39mvalue\n",
      "\u001b[0;31mNameError\u001b[0m: name 'units1' is not defined"
     ]
    }
   ],
   "source": [
    "from multiprocessing.sharedctypes import Value\n",
    "\n",
    "\n",
    "class MetricConversion:\n",
    "    \"\"\"Conversion of US units to the metric system\"\"\"\n",
    "\n",
    "    def __init__(self, value: float):\n",
    "        self.value = value\n",
    "\n",
    "    def inch_to_cm(self):\n",
    "        print(f\"{self.value} inches is {self.value * 2.54} cm\")\n",
    "        # alternative\n",
    "        # return self.value * 2.54\n",
    "\n",
    "    def foot_to_meters(self):\n",
    "        print(f\"{self.value} feet is equal to {self.value * 0.3} meters\")\n",
    "\n",
    "    @property\n",
    "    def value(self):\n",
    "        return self._value\n",
    "\n",
    "    @value.setter\n",
    "    def value(self, value):\n",
    "        if not isinstance(value, (float, int)):\n",
    "            raise ValueError(\"The value has to be a number\")\n",
    "        self._value = value\n",
    "\n",
    "    def __repr__(self):\n",
    "        return f\"MetricConversion(value='{self.value}')\"\n",
    "\n",
    "units0 = MetricConversion(5)\n",
    "print(units0.inch_to_cm())\n",
    "units0.value = 6\n",
    "print(units0.foot_to_meters())\n",
    "\n",
    "try:\n",
    "    units1 = MetricConversion(\"hello\")\n",
    "except ValueError as err:\n",
    "    print(err)\n",
    "\n",
    "units1.inch_to_cm()\n",
    "print(units1)\n",
    "units1.value"
   ]
  },
  {
   "cell_type": "markdown",
   "metadata": {},
   "source": [
    "# 2. Person"
   ]
  },
  {
   "cell_type": "code",
   "execution_count": 33,
   "metadata": {},
   "outputs": [
    {
     "name": "stdout",
     "output_type": "stream",
     "text": [
      "name setter run\n",
      "name setter run\n",
      "name getter run\n",
      "Hi, my name is test, I am 125 years old, my email address is bla@bla\n"
     ]
    }
   ],
   "source": [
    "class Person:\n",
    "    def __init__(self, name, age, email) -> None:\n",
    "        self.name = name\n",
    "        self.age = age\n",
    "        self.email = email\n",
    "\n",
    "    @property\n",
    "    def name(self) -> str:\n",
    "        print(\"name getter run\")\n",
    "        return self._name\n",
    "\n",
    "    @name.setter\n",
    "    def name(self, value) -> None:\n",
    "        print(\"name setter run\")\n",
    "        if not isinstance(value, str):\n",
    "            raise TypeError(f\"Name has to be a string, not {type(value).__name__}\")\n",
    "        self._name = value\n",
    "\n",
    "    @property\n",
    "    def age(self) -> float or int:\n",
    "        return self._age\n",
    "\n",
    "    @age.setter\n",
    "    def age(self, value) -> None:\n",
    "        if not 0 <= value <= 125:\n",
    "            raise ValueError(\"Age has to be between 0 and 125\")\n",
    "        self._age = value\n",
    "\n",
    "    @property\n",
    "    def email(self) -> str:\n",
    "        return self._email\n",
    "\n",
    "    @email.setter\n",
    "    def email(self, value) -> None:\n",
    "        if not \"@\" in value:\n",
    "            raise ValueError(\"Please enter a valid email address\")\n",
    "        self._email = value\n",
    "\n",
    "    def say_hello(self) -> str:\n",
    "        print(f\"Hi, my name is {self.name}, I am {self.age} years old, my email address is {self.email}\")\n",
    "\n",
    "    def __repr__(self) -> str:\n",
    "        return f\"Person(name={self.name}, age={self.age}, email={self.email})\"\n",
    "\n",
    "\n",
    "person1 = Person(\"Johan\", 33, \"bla@bla\")\n",
    "person1.name = \"test\"\n",
    "person1.age = 125\n",
    "person1.say_hello()\n"
   ]
  },
  {
   "cell_type": "markdown",
   "metadata": {},
   "source": [
    "# 3. Student and Teacher"
   ]
  },
  {
   "cell_type": "code",
   "execution_count": 41,
   "metadata": {},
   "outputs": [
    {
     "name": "stdout",
     "output_type": "stream",
     "text": [
      "name setter run\n",
      "name getter run\n",
      "Yo, student, hi, 23, fdkasfj@\n",
      "study\n"
     ]
    }
   ],
   "source": [
    "class Student(Person):\n",
    "    \n",
    "    def study(self):\n",
    "        print(\"study\")\n",
    "\n",
    "    def say_hello(self):\n",
    "        print(f\"Yo, student, {self.name}, {self.age}, {self.email}\")\n",
    "\n",
    "student1 = Student(\"hi\", 23, \"fdkasfj@\")\n",
    "student1.say_hello()\n",
    "student1.study()"
   ]
  }
 ],
 "metadata": {
  "kernelspec": {
   "display_name": "Python 3.9.13 ('python-johan-sandberg-x4O3kqDM')",
   "language": "python",
   "name": "python3"
  },
  "language_info": {
   "codemirror_mode": {
    "name": "ipython",
    "version": 3
   },
   "file_extension": ".py",
   "mimetype": "text/x-python",
   "name": "python",
   "nbconvert_exporter": "python",
   "pygments_lexer": "ipython3",
   "version": "3.9.13"
  },
  "orig_nbformat": 4,
  "vscode": {
   "interpreter": {
    "hash": "da9dd422ea5b832177d9cab6ed09096dc8afb770f75d972c39385656daeae52e"
   }
  }
 },
 "nbformat": 4,
 "nbformat_minor": 2
}
