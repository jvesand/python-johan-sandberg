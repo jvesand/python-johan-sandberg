{
 "cells": [
  {
   "cell_type": "markdown",
   "metadata": {},
   "source": [
    "# 1. Video"
   ]
  },
  {
   "cell_type": "code",
   "execution_count": 2,
   "metadata": {},
   "outputs": [
    {
     "name": "stdout",
     "output_type": "stream",
     "text": [
      "TV series with title Pokemon, genre Cartoon, rating 4.5 and episodes 550\n",
      "Movie with title Titanic, genre Romance, rating 4.7 and duration 194 minutes\n"
     ]
    }
   ],
   "source": [
    "class Video:\n",
    "    def __init__(self, title: str, genre: str, rating: float) -> None:\n",
    "        self.title = title\n",
    "        self.genre = genre\n",
    "        self.rating = rating\n",
    "\n",
    "    def info(self) -> str:\n",
    "        return f\"Video with title {self.title}, genre {self.genre} and rating {self.rating}.\"\n",
    "\n",
    "    # validation code in parent class\n",
    "    @property\n",
    "    def title(self) -> str:\n",
    "        return self._title\n",
    "\n",
    "    @title.setter\n",
    "    def title(self, value) -> None:\n",
    "        if not isinstance(value, str):\n",
    "            raise TypeError(\"String please\")\n",
    "        self._title = value\n",
    "\n",
    "    @property\n",
    "    def genre(self) -> str\n",
    "\n",
    "\n",
    "class TvSeries(Video):\n",
    "    def __init__(self, title: str, genre: str, rating: float, num_episodes: int) -> None:\n",
    "        super().__init__(title, genre, rating)\n",
    "        self.num_episodes = num_episodes\n",
    "\n",
    "    def info(self) -> str:\n",
    "        return f\"TV series with title {self.title}, genre {self.genre}, rating {self.rating} and episodes {self.num_episodes}\"\n",
    "\n",
    "class Movie(Video):\n",
    "\n",
    "    def __init__(self, title: str, genre:str, rating:float, duration: float) -> None:\n",
    "        super().__init__(title, genre, rating)\n",
    "        self.duration = duration\n",
    "\n",
    "    def info(self) -> str:\n",
    "        return f\"Movie with title {self.title}, genre {self.genre}, rating {self.rating} and duration {self.duration} minutes\"\n",
    "\n",
    "pokemon = TvSeries(\"Pokemon\", \"Cartoon\", 4.5, 550)\n",
    "titanic = Movie(\"Titanic\", \"Romance\", 4.7, 194)\n",
    "\n",
    "for video in tuple((pokemon, titanic)):\n",
    "    print(video.info())\n"
   ]
  },
  {
   "cell_type": "markdown",
   "metadata": {},
   "source": [
    "# 2. Fraction"
   ]
  },
  {
   "cell_type": "code",
   "execution_count": 12,
   "metadata": {},
   "outputs": [
    {
     "data": {
      "text/plain": [
       "'0/4'"
      ]
     },
     "execution_count": 12,
     "metadata": {},
     "output_type": "execute_result"
    }
   ],
   "source": [
    "class Frac:\n",
    "    def __init__(self, numerator, denominator) -> None:\n",
    "        self.numerator = numerator\n",
    "        self.denominator = denominator\n",
    "\n",
    "    # def simplify(self, value)\n",
    "\n",
    "    def __add__(self, other):\n",
    "        denominator = self.denominator * other.denominator\n",
    "        numerator = (self.numerator * other.denominator) + (other.numerator * self.denominator)\n",
    "        return f\"{numerator}/{denominator}\"\n",
    "\n",
    "    def __sub__(self, other):\n",
    "        denominator = self.denominator * other.denominator\n",
    "        numerator = (self.numerator * other.denominator) - (other.numerator * self.denominator)\n",
    "        return f\"{numerator}/{denominator}\"\n",
    "\n",
    "frac1 = Frac(1,2)\n",
    "frac2 = Frac(1,2)\n",
    "\n",
    "frac1+frac2\n",
    "frac1-frac2\n",
    "\n"
   ]
  }
 ],
 "metadata": {
  "kernelspec": {
   "display_name": "Python 3.9.13 ('python-johan-sandberg-x4O3kqDM')",
   "language": "python",
   "name": "python3"
  },
  "language_info": {
   "codemirror_mode": {
    "name": "ipython",
    "version": 3
   },
   "file_extension": ".py",
   "mimetype": "text/x-python",
   "name": "python",
   "nbconvert_exporter": "python",
   "pygments_lexer": "ipython3",
   "version": "3.9.13"
  },
  "orig_nbformat": 4,
  "vscode": {
   "interpreter": {
    "hash": "da9dd422ea5b832177d9cab6ed09096dc8afb770f75d972c39385656daeae52e"
   }
  }
 },
 "nbformat": 4,
 "nbformat_minor": 2
}
