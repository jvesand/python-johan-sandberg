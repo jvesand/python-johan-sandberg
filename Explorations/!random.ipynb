{
 "cells": [
  {
   "cell_type": "code",
   "execution_count": 7,
   "metadata": {},
   "outputs": [
    {
     "ename": "AttributeError",
     "evalue": "'dict' object has no attribute 'split'",
     "output_type": "error",
     "traceback": [
      "\u001b[0;31m---------------------------------------------------------------------------\u001b[0m",
      "\u001b[0;31mAttributeError\u001b[0m                            Traceback (most recent call last)",
      "\u001b[1;32m/Users/johsan/GitHub/python-johan-sandberg/Explorations/!random.ipynb Cell 1\u001b[0m in \u001b[0;36m<cell line: 3>\u001b[0;34m()\u001b[0m\n\u001b[1;32m      <a href='vscode-notebook-cell:/Users/johsan/GitHub/python-johan-sandberg/Explorations/%21random.ipynb#W0sZmlsZQ%3D%3D?line=0'>1</a>\u001b[0m x \u001b[39m=\u001b[39m \u001b[39mlist\u001b[39m(\u001b[39mrange\u001b[39m(\u001b[39m10\u001b[39m))\n\u001b[1;32m      <a href='vscode-notebook-cell:/Users/johsan/GitHub/python-johan-sandberg/Explorations/%21random.ipynb#W0sZmlsZQ%3D%3D?line=1'>2</a>\u001b[0m a_dict \u001b[39m=\u001b[39m {\u001b[39m\"\u001b[39m\u001b[39mkey1\u001b[39m\u001b[39m\"\u001b[39m: \u001b[39m1\u001b[39m, \u001b[39m\"\u001b[39m\u001b[39mkey2\u001b[39m\u001b[39m\"\u001b[39m: \u001b[39m2\u001b[39m}\n\u001b[0;32m----> <a href='vscode-notebook-cell:/Users/johsan/GitHub/python-johan-sandberg/Explorations/%21random.ipynb#W0sZmlsZQ%3D%3D?line=2'>3</a>\u001b[0m a_dict\u001b[39m.\u001b[39;49msplit()\n",
      "\u001b[0;31mAttributeError\u001b[0m: 'dict' object has no attribute 'split'"
     ]
    }
   ],
   "source": [
    "x = list(range(10))\n",
    "a_dict = {\"key1\": 1, \"key2\": 2}"
   ]
  },
  {
   "cell_type": "code",
   "execution_count": 12,
   "metadata": {},
   "outputs": [
    {
     "data": {
      "text/plain": [
       "[Text(0.5, 0, 'x'),\n",
       " Text(0, 0.5, 'y'),\n",
       " Text(0.5, 1.0, '$\\\\cos{x}$'),\n",
       " (-5.0, 5.0),\n",
       " (-1.2, 1.2)]"
      ]
     },
     "execution_count": 12,
     "metadata": {},
     "output_type": "execute_result"
    },
    {
     "data": {
      "image/png": "[encoded data removed]",
      "text/plain": [
       "<Figure size 800x400 with 1 Axes>"
      ]
     },
     "metadata": {},
     "output_type": "display_data"
    }
   ],
   "source": [
    "import matplotlib.pyplot as plt\n",
    "# instantiated fig, ax from figure and axes\n",
    "fig, ax = plt.figure(), plt.axes()\n",
    "\n",
    "fig.set_figheight(4)\n",
    "fig.set_figwidth(8)\n",
    "\n",
    "# ax.plot(x, f(x)) # ax object has a plot method\n",
    "ax.set(xlabel = \"x\", ylabel = \"y\", title = \"$\\cos{x}$\", xlim = (-5, 5), ylim = (-1.2, 1.2))\n",
    "\n"
   ]
  },
  {
   "cell_type": "code",
   "execution_count": 22,
   "metadata": {},
   "outputs": [
    {
     "data": {
      "text/plain": [
       "2"
      ]
     },
     "execution_count": 22,
     "metadata": {},
     "output_type": "execute_result"
    }
   ],
   "source": [
    "import numpy as np\n",
    "\n",
    "rolls = np.random.randint(1,7, 100)\n",
    "s1 = \"test\"\n",
    "\n",
    "l1 = [1,1,3]\n",
    "l1.count(1)"
   ]
  },
  {
   "cell_type": "code",
   "execution_count": 29,
   "metadata": {},
   "outputs": [
    {
     "data": {
      "text/plain": [
       "{1: 13, 2: 16, 3: 15, 4: 17, 5: 23, 6: 16}"
      ]
     },
     "execution_count": 29,
     "metadata": {},
     "output_type": "execute_result"
    }
   ],
   "source": [
    "rolls = np.random.randint(1,7,100)\n",
    "dict_rolls = {i: np.count_nonzero(rolls == i) for i in range(1,7)}\n",
    "dict_rolls"
   ]
  },
  {
   "cell_type": "code",
   "execution_count": null,
   "metadata": {},
   "outputs": [],
   "source": [
    "with open(\"../Data/quotes_clean.txt\", 'r') as f_quotes:\n",
    "    print(f_quotes.read())"
   ]
  },
  {
   "cell_type": "code",
   "execution_count": 30,
   "metadata": {},
   "outputs": [
    {
     "name": "stdout",
     "output_type": "stream",
     "text": [
      "could not convert string to float: 'hi'\n",
      "Please input positive radius\n"
     ]
    }
   ],
   "source": [
    "while True:\n",
    "\n",
    "    try:\n",
    "        radius = float(input(\"Input radius\"))\n",
    "        if not radius > 0:\n",
    "            raise ValueError(\"Please input a positive number as radius\")\n",
    "        the_volume = radius*2\n",
    "        break\n",
    "    except ValueError as err:\n",
    "        print(err)        \n"
   ]
  },
  {
   "cell_type": "code",
   "execution_count": 45,
   "metadata": {},
   "outputs": [],
   "source": [
    "import math\n",
    "def distance(point1, point2):\n",
    "\n",
    "    return math.sqrt((float(point1[0]) - float(point2[0]))**2 + (float(point1[1]) - float(point2[1]))**2)\n"
   ]
  },
  {
   "cell_type": "code",
   "execution_count": null,
   "metadata": {},
   "outputs": [],
   "source": [
    "class NormalDist:\n",
    "    def __init__(self, mu: float, sigma: float):\n",
    "        self.mu = mu\n",
    "        self.sigma = sigma\n",
    "\n",
    "    def pdf(self, x: float) -> None:\n",
    "        return 1/(self.mu*math.sqrt(2*np.pi)) * np.e"
   ]
  },
  {
   "cell_type": "code",
   "execution_count": 48,
   "metadata": {},
   "outputs": [
    {
     "name": "stdout",
     "output_type": "stream",
     "text": [
      "xoooo\n",
      "xxooo\n",
      "xxxoo\n",
      "xxxxo\n",
      "xxxxx\n"
     ]
    }
   ],
   "source": [
    "for i in range(1,6):\n",
    "    print(\"x\"*i, end = \"\")\n",
    "    circles = 5-i\n",
    "    print(\"o\"*circles)\n"
   ]
  },
  {
   "cell_type": "code",
   "execution_count": null,
   "metadata": {},
   "outputs": [],
   "source": [
    "for day,line in zip(days, lines):\n",
    "    print(day + \": \" + line)"
   ]
  },
  {
   "cell_type": "code",
   "execution_count": 65,
   "metadata": {},
   "outputs": [
    {
     "name": "stdout",
     "output_type": "stream",
     "text": [
      "Tusenlapp: 3\n",
      "Hundralapp: 2\n",
      "Tiokrona: 1\n",
      "Enkrona: 4\n"
     ]
    }
   ],
   "source": [
    "sum1 = 3214\n",
    "\n",
    "\n",
    "curr1 = {'Tusenlapp': 1000, \"Hundralapp\": 100, \"Tiokrona\": 10, \"Enkrona\": 1}\n",
    "\n",
    "for key, value in curr1.items():\n",
    "    if sum1//value > 0:\n",
    "        print(key + \": \" + str(sum1//value))\n",
    "    sum1 = sum1 % value\n",
    "\n"
   ]
  },
  {
   "cell_type": "code",
   "execution_count": 72,
   "metadata": {},
   "outputs": [],
   "source": [
    "rolls = np.random.randint(1,7,100)\n",
    "rolls2 = np.random.randint(1,7,100)\n",
    "\n",
    "for i,j in zip(rolls, rolls2):\n",
    "    pass\n"
   ]
  },
  {
   "cell_type": "code",
   "execution_count": 73,
   "metadata": {},
   "outputs": [],
   "source": [
    "for i,j in enumerate(rolls):\n",
    "    pass"
   ]
  },
  {
   "cell_type": "code",
   "execution_count": 77,
   "metadata": {},
   "outputs": [
    {
     "name": "stdout",
     "output_type": "stream",
     "text": [
      "[2 3 5 2 5 4 5 1 3 5 6 2 2 5 1 2 3 4 1 2 6 6 1 4 1 2 4 1 6 4 5 2 1 4 4 6 1\n",
      " 1 4 4 2 4 5 5 2 6 1 4 3 2 4 4 3 1 5 2 5 5 4 1 3 3 4 2 1 3 6 5 3 1 6 6 1 5\n",
      " 6 1 6 6 4 4 1 3 1 3 6 2 2 2 6 6 6 1 5 6 3 6 1 1 2 6]\n",
      "[6 2 1 1 6 3 6 5 1 6 6 6 2 2 2 6 3 1 3 1 4 4 6 6 1 6 5 1 6 6 1 3 5 6 3 1 2\n",
      " 4 3 3 1 4 5 5 2 5 1 3 4 4 2 3 4 1 6 2 5 5 4 2 4 4 1 1 6 4 4 1 2 5 4 6 1 4\n",
      " 2 1 4 1 6 6 2 1 4 3 2 1 5 2 2 6 5 3 1 5 4 5 2 5 3 2]\n"
     ]
    }
   ],
   "source": [
    "print(rolls[::-1])\n",
    "print(rolls)"
   ]
  },
  {
   "cell_type": "code",
   "execution_count": null,
   "metadata": {},
   "outputs": [],
   "source": [
    "import os, sys\n",
    "\n",
    "current_path = os.path.dirname(__file__)\n",
    "os.chdir(current_path)\n",
    "module_path = os.path.abspath(\"../\")\n",
    "\n",
    "sys.path.append(module_path)"
   ]
  },
  {
   "cell_type": "code",
   "execution_count": null,
   "metadata": {},
   "outputs": [],
   "source": [
    "import unittest\n",
    "\n",
    "\n",
    "if __name__ == \"__main__\":\n",
    "    unittest.main()"
   ]
  },
  {
   "cell_type": "code",
   "execution_count": 122,
   "metadata": {},
   "outputs": [
    {
     "name": "stdout",
     "output_type": "stream",
     "text": [
      "Animal ['dog1', 'dog2']\n",
      "Beda owns:\n",
      "[Dog: Barkly, Dog: Whatev]\n",
      "[Fish: Fishy, Fish: Bishy]\n"
     ]
    }
   ],
   "source": [
    "class Animal:\n",
    "    def __init__(self, name):\n",
    "        self.name = name\n",
    "    def __str__(self):\n",
    "        return f\"Animal {self.name}\"\n",
    "class Dog(Animal):\n",
    "    # notera att __init__ är nedärvd\n",
    "    def __repr__(self):\n",
    "        return f\"Dog: {self.name}\"\n",
    "class Fish(Animal):\n",
    "    def __repr__(self):\n",
    "        return f\"Fish: {self.name}\"\n",
    "\n",
    "animal1 = Animal(\"animal1\")\n",
    "dog1 = Dog([\"dog1\", \"dog2\"])\n",
    "dog1 # uses __repr__\n",
    "print(dog1) # user inherited __str__\n",
    "\n",
    "class PetOwner:\n",
    "    def __init__(self, name: str, dogs = [], fish = []):\n",
    "        self.name = name\n",
    "        self.dogs = dogs\n",
    "        self.fish = fish\n",
    "\n",
    "    @property\n",
    "    def dogs(self):\n",
    "        return self._dogs\n",
    "\n",
    "    @dogs.setter\n",
    "    def dogs(self, value):\n",
    "        self._dogs = [Dog(i) for i in value]\n",
    "\n",
    "    @property\n",
    "    def fish(self):\n",
    "        return self._fish\n",
    "\n",
    "    @fish.setter\n",
    "    def fish(self, value):\n",
    "        self._fish = [Fish(i) for i in value]\n",
    "\n",
    "    def __str__(self):\n",
    "        return_string = f\"{self.name} owns:\\n\"\n",
    "        return_string += repr(self.dogs) + \"\\n\" + repr(self.fish)\n",
    "        return return_string\n",
    "        \n",
    "\n",
    "owner1 = PetOwner(\"Beda\", [\"Barkly\", \"Whatev\"], [\"Fishy\", \"Bishy\"])\n",
    "print(owner1)\n"
   ]
  }
 ],
 "metadata": {
  "kernelspec": {
   "display_name": "Python 3.9.1 ('python-johan-sandberg-x4O3kqDM')",
   "language": "python",
   "name": "python3"
  },
  "language_info": {
   "codemirror_mode": {
    "name": "ipython",
    "version": 3
   },
   "file_extension": ".py",
   "mimetype": "text/x-python",
   "name": "python",
   "nbconvert_exporter": "python",
   "pygments_lexer": "ipython3",
   "version": "3.9.13"
  },
  "orig_nbformat": 4,
  "vscode": {
   "interpreter": {
    "hash": "da9dd422ea5b832177d9cab6ed09096dc8afb770f75d972c39385656daeae52e"
   }
  }
 },
 "nbformat": 4,
 "nbformat_minor": 2
}
