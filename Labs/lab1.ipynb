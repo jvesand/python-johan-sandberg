{
 "cells": [
  {
   "cell_type": "markdown",
   "metadata": {},
   "source": [
    "# Lab 2 - Classification"
   ]
  },
  {
   "cell_type": "markdown",
   "metadata": {},
   "source": [
    "## Plot data points"
   ]
  },
  {
   "cell_type": "code",
   "execution_count": 81,
   "metadata": {},
   "outputs": [
    {
     "data": {
      "text/plain": [
       "[<matplotlib.lines.Line2D at 0x120eecb80>]"
      ]
     },
     "execution_count": 81,
     "metadata": {},
     "output_type": "execute_result"
    },
    {
     "data": {
      "image/png": "[encoded data removed]",
      "text/plain": [
       "<Figure size 640x480 with 1 Axes>"
      ]
     },
     "metadata": {},
     "output_type": "display_data"
    }
   ],
   "source": [
    "import matplotlib.pylab as plt\n",
    "\n",
    "path = \"/Users/johsan/Dropbox/ITHS/2_python/labb2/\"\n",
    "\n",
    "# reading files through with statement\n",
    "with open(path + \"datapoints.txt\", 'r') as f_train_read, \\\n",
    "    open(path + \"testpoints.txt\", \"r\") as f_test_read:\n",
    "\n",
    "    # splitting training data into lists of one string per observeration\n",
    "    train_strings = f_train_read.read().split(\"\\n\")\n",
    "\n",
    "# splitting the string per observation into three list items\n",
    "train_lists = []\n",
    "\n",
    "for i in range(1, len(train_strings)):\n",
    "    a_line = [float(j) for j in train_strings[i].split(\",\")]\n",
    "    train_lists.append(a_line)\n",
    "\n",
    "# separating the lists for each class and feature\n",
    "train_pikachu_width, train_pikachu_height, train_pichu_width, train_pichu_height = [], [], [], []\n",
    "\n",
    "for i in train_lists:\n",
    "    if i[2] == 0:\n",
    "        train_pichu_width.append(i[0])\n",
    "        train_pichu_height.append(i[1])\n",
    "    elif i[2] == 1:\n",
    "        train_pikachu_width.append(i[0])\n",
    "        train_pikachu_height.append(i[1])\n",
    "\n",
    "# plotting the data points with difference colors for each class\n",
    "plt.plot(train_pichu_width, train_pichu_height, \"o\", color = \"Green\")\n",
    "plt.plot(train_pikachu_width, train_pikachu_height, \"o\", color = \"Blue\")\n"
   ]
  },
  {
   "cell_type": "markdown",
   "metadata": {},
   "source": [
    "## Test points"
   ]
  },
  {
   "cell_type": "code",
   "execution_count": 202,
   "metadata": {},
   "outputs": [
    {
     "data": {
      "text/plain": [
       "[25.0, 32.0]"
      ]
     },
     "execution_count": 202,
     "metadata": {},
     "output_type": "execute_result"
    }
   ],
   "source": [
    "import re\n",
    "\n",
    "with open(path + \"testpoints.txt\", 'r') as f_test_read:\n",
    "    \n",
    "    # remove parantheses and commas to be able to convert to float later\n",
    "    test_strings = re.sub(\"[(),]\", \"\", f_test_read.read())\n",
    "\n",
    "    # strip trailing newline and split into a list of strings\n",
    "    # source: https://datagy.io/python-remove-newline-character-string/\n",
    "    test_strings = test_strings.rstrip().split(\"\\n\")\n",
    "\n",
    "\n",
    "test_list = []\n",
    "\n",
    "for i in range(1, len(test_strings)):\n",
    "    a_list = [float(j) for j in test_strings[i].split()[1:]]\n",
    "    test_list.append(a_list)\n",
    "\n",
    "def distance(x,y):\n",
    "    \n",
    "for i in test_list:\n"
   ]
  },
  {
   "cell_type": "code",
   "execution_count": 136,
   "metadata": {},
   "outputs": [
    {
     "data": {
      "text/plain": [
       "'1. (25, 32)'"
      ]
     },
     "execution_count": 136,
     "metadata": {},
     "output_type": "execute_result"
    }
   ],
   "source": [
    "test_strings[1].strip(\"\")"
   ]
  }
 ],
 "metadata": {
  "kernelspec": {
   "display_name": "Python 3.9.13 ('python-johan-sandberg-x4O3kqDM')",
   "language": "python",
   "name": "python3"
  },
  "language_info": {
   "codemirror_mode": {
    "name": "ipython",
    "version": 3
   },
   "file_extension": ".py",
   "mimetype": "text/x-python",
   "name": "python",
   "nbconvert_exporter": "python",
   "pygments_lexer": "ipython3",
   "version": "3.9.13"
  },
  "orig_nbformat": 4,
  "vscode": {
   "interpreter": {
    "hash": "da9dd422ea5b832177d9cab6ed09096dc8afb770f75d972c39385656daeae52e"
   }
  }
 },
 "nbformat": 4,
 "nbformat_minor": 2
}
