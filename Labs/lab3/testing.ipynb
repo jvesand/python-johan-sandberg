{
 "cells": [
  {
   "cell_type": "code",
   "execution_count": 26,
   "metadata": {},
   "outputs": [
    {
     "name": "stdout",
     "output_type": "stream",
     "text": [
      "An instance of the Rectangle class: Rectangle(x = 0, y = 0, side1 = 2, side2 = 2)\n",
      "The rectangle has an area of 4 and a circumference of 8.\n",
      "The rectangle is square.\n",
      "\n",
      "An instance of the Circle class: Circle(x = 0, y = 0, radius = 10)\n",
      "The circle has an area of 314.1592653589793 and a circumference of 62.83185307179586.\n",
      "The circle is not a unit circle\n",
      "\n"
     ]
    },
    {
     "data": {
      "text/plain": [
       "True"
      ]
     },
     "execution_count": 26,
     "metadata": {},
     "output_type": "execute_result"
    }
   ],
   "source": [
    "from geometry_shapes import *\n",
    "\n",
    "rect1 = Rectangle(0, 0, 2, 2)\n",
    "rect2 = Rectangle(0, 0, 2, 2)\n",
    "\n",
    "circ1 = Circle(0,0, 10)\n",
    "circ2 = Circle(0,0, 1)\n",
    "\n",
    "\n",
    "print(rect1)\n",
    "print(circ1)\n",
    "\n",
    "rect1.is_inside(0.9,0.9)\n",
    "circ1 == circ2\n",
    "rect1 == rect2\n",
    "\n",
    "rect1 < circ1\n"
   ]
  }
 ],
 "metadata": {
  "kernelspec": {
   "display_name": "Python 3.9.13 ('python-johan-sandberg-x4O3kqDM')",
   "language": "python",
   "name": "python3"
  },
  "language_info": {
   "codemirror_mode": {
    "name": "ipython",
    "version": 3
   },
   "file_extension": ".py",
   "mimetype": "text/x-python",
   "name": "python",
   "nbconvert_exporter": "python",
   "pygments_lexer": "ipython3",
   "version": "3.9.13"
  },
  "orig_nbformat": 4,
  "vscode": {
   "interpreter": {
    "hash": "da9dd422ea5b832177d9cab6ed09096dc8afb770f75d972c39385656daeae52e"
   }
  }
 },
 "nbformat": 4,
 "nbformat_minor": 2
}
