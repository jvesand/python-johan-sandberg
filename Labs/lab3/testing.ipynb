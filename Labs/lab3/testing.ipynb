{
 "cells": [
  {
   "cell_type": "code",
   "execution_count": 7,
   "metadata": {},
   "outputs": [
    {
     "name": "stdout",
     "output_type": "stream",
     "text": [
      "An instance of the Rectangle class: Rectangle(x = 0, y = 0, side1 = 2, side2 = 23)\n",
      "The rectangle has an area of 46 and a circumference of 50.\n",
      "The rectangle is not square\n",
      "\n",
      "An instance of the Circle class: Circle(x = 0, y = 0, radius = 1)\n",
      "The circle has an area of 3.141592653589793 and a circumference of 6.283185307179586.\n",
      "The circle is a unit circle.\n",
      "\n"
     ]
    },
    {
     "data": {
      "text/plain": [
       "3.141592653589793"
      ]
     },
     "execution_count": 7,
     "metadata": {},
     "output_type": "execute_result"
    }
   ],
   "source": [
    "from geometry_shapes import *\n",
    "\n",
    "rect1 = Rectangle(0, 0, 2, 23)\n",
    "circ1 = Circle(0,0, 1)\n",
    "\n",
    "print(rect1)\n",
    "print(circ1)\n",
    "\n",
    "circ1.area\n"
   ]
  }
 ],
 "metadata": {
  "kernelspec": {
   "display_name": "Python 3.9.13 ('python-johan-sandberg-x4O3kqDM')",
   "language": "python",
   "name": "python3"
  },
  "language_info": {
   "codemirror_mode": {
    "name": "ipython",
    "version": 3
   },
   "file_extension": ".py",
   "mimetype": "text/x-python",
   "name": "python",
   "nbconvert_exporter": "python",
   "pygments_lexer": "ipython3",
   "version": "3.9.13"
  },
  "orig_nbformat": 4,
  "vscode": {
   "interpreter": {
    "hash": "da9dd422ea5b832177d9cab6ed09096dc8afb770f75d972c39385656daeae52e"
   }
  }
 },
 "nbformat": 4,
 "nbformat_minor": 2
}
