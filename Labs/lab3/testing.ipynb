{
 "cells": [
  {
   "cell_type": "code",
   "execution_count": 1,
   "metadata": {},
   "outputs": [
    {
     "name": "stdout",
     "output_type": "stream",
     "text": [
      "An instance of the Rectangle class: Rectangle(x = 10, y = 10, side1 = 1, side2 = 1)\n",
      "The rectangle has an area of 1 and a circumference of 4.\n",
      "The rectangle has equal sides.\n",
      "An instance of the Circle class: Circle(x = 10, y = 2, radius = 1)\n",
      "The circle has an area of 3.141592653589793 and a circumference of 6.283185307179586.\n",
      "The circle is not a unit circle.\n",
      "An instance of the Rectangle class: Rectangle(x = 10, y = 10, side1 = 1, side2 = 1)\n",
      "The rectangle has an area of 1 and a circumference of 4.\n",
      "The rectangle has equal sides.\n",
      "An instance of the Cube class: Cube(x = 1, y = 1, z = 2, side1 = 1, side2 = 2, side3 = 2)\n",
      "The cube has an area of 16 and a circumference of 6 (Note: Circumference of rectangle in (x,y) space (side3 set to 0)).\n",
      "The cube has equal sides. Its volume is 4.\n"
     ]
    }
   ],
   "source": [
    "from geometry_shapes import *\n",
    "\n",
    "rect1 = Rectangle(10, 10, 1, 1)\n",
    "rect2 = Rectangle(0, 0, 2, 2)\n",
    "\n",
    "circ1 = Circle(10,2, 1)\n",
    "circ2 = Circle(0,0, 1)\n",
    "\n",
    "\n",
    "print(rect1)\n",
    "print(circ1)\n",
    "\n",
    "rect1.is_inside(0.9,0.9)\n",
    "circ1 == circ2\n",
    "rect1 == rect2\n",
    "\n",
    "rect1 < circ1\n",
    "\n",
    "# circ1.translate(100, 100)\n",
    "# rect1.plot()\n",
    "# rect1.translate(20, 20)\n",
    "# circ1.translate(0,0)\n",
    "\n",
    "\n",
    "circ2.is_inside(1, 0)\n",
    "# print(np.asarray([1,2]))\n",
    "# rect1.plot_shape()\n",
    "\n",
    "cube1 = Cube(1,1,1,2,2,2)\n",
    "sphere1 = Sphere(1,1,1,10)\n",
    "\n",
    "print(rect1)\n",
    "\n",
    "sphere1.is_inside(5,5,10)\n",
    "# print(sphere1)\n",
    "# rect1.circumference\n",
    "print(cube1)\n"
   ]
  }
 ],
 "metadata": {
  "kernelspec": {
   "display_name": "Python 3.9.13 ('python-johan-sandberg-x4O3kqDM')",
   "language": "python",
   "name": "python3"
  },
  "language_info": {
   "codemirror_mode": {
    "name": "ipython",
    "version": 3
   },
   "file_extension": ".py",
   "mimetype": "text/x-python",
   "name": "python",
   "nbconvert_exporter": "python",
   "pygments_lexer": "ipython3",
   "version": "3.9.13"
  },
  "orig_nbformat": 4,
  "vscode": {
   "interpreter": {
    "hash": "da9dd422ea5b832177d9cab6ed09096dc8afb770f75d972c39385656daeae52e"
   }
  }
 },
 "nbformat": 4,
 "nbformat_minor": 2
}
